{
  "cells": [
    {
      "cell_type": "code",
      "execution_count": 1,
      "metadata": {
        "colab": {
          "base_uri": "https://localhost:8080/"
        },
        "id": "jWmuhWfv1awC",
        "outputId": "4b1eb384-da6d-4b7e-f8bd-0856419cbecc"
      },
      "outputs": [
        {
          "output_type": "stream",
          "name": "stdout",
          "text": [
            "Collecting transformers\n",
            "  Downloading transformers-4.32.1-py3-none-any.whl (7.5 MB)\n",
            "\u001b[2K     \u001b[90m━━━━━━━━━━━━━━━━━━━━━━━━━━━━━━━━━━━━━━━━\u001b[0m \u001b[32m7.5/7.5 MB\u001b[0m \u001b[31m16.8 MB/s\u001b[0m eta \u001b[36m0:00:00\u001b[0m\n",
            "\u001b[?25hRequirement already satisfied: filelock in /usr/local/lib/python3.10/dist-packages (from transformers) (3.12.2)\n",
            "Collecting huggingface-hub<1.0,>=0.15.1 (from transformers)\n",
            "  Downloading huggingface_hub-0.16.4-py3-none-any.whl (268 kB)\n",
            "\u001b[2K     \u001b[90m━━━━━━━━━━━━━━━━━━━━━━━━━━━━━━━━━━━━━━\u001b[0m \u001b[32m268.8/268.8 kB\u001b[0m \u001b[31m27.6 MB/s\u001b[0m eta \u001b[36m0:00:00\u001b[0m\n",
            "\u001b[?25hRequirement already satisfied: numpy>=1.17 in /usr/local/lib/python3.10/dist-packages (from transformers) (1.23.5)\n",
            "Requirement already satisfied: packaging>=20.0 in /usr/local/lib/python3.10/dist-packages (from transformers) (23.1)\n",
            "Requirement already satisfied: pyyaml>=5.1 in /usr/local/lib/python3.10/dist-packages (from transformers) (6.0.1)\n",
            "Requirement already satisfied: regex!=2019.12.17 in /usr/local/lib/python3.10/dist-packages (from transformers) (2023.6.3)\n",
            "Requirement already satisfied: requests in /usr/local/lib/python3.10/dist-packages (from transformers) (2.31.0)\n",
            "Collecting tokenizers!=0.11.3,<0.14,>=0.11.1 (from transformers)\n",
            "  Downloading tokenizers-0.13.3-cp310-cp310-manylinux_2_17_x86_64.manylinux2014_x86_64.whl (7.8 MB)\n",
            "\u001b[2K     \u001b[90m━━━━━━━━━━━━━━━━━━━━━━━━━━━━━━━━━━━━━━━━\u001b[0m \u001b[32m7.8/7.8 MB\u001b[0m \u001b[31m58.8 MB/s\u001b[0m eta \u001b[36m0:00:00\u001b[0m\n",
            "\u001b[?25hCollecting safetensors>=0.3.1 (from transformers)\n",
            "  Downloading safetensors-0.3.3-cp310-cp310-manylinux_2_17_x86_64.manylinux2014_x86_64.whl (1.3 MB)\n",
            "\u001b[2K     \u001b[90m━━━━━━━━━━━━━━━━━━━━━━━━━━━━━━━━━━━━━━━━\u001b[0m \u001b[32m1.3/1.3 MB\u001b[0m \u001b[31m73.8 MB/s\u001b[0m eta \u001b[36m0:00:00\u001b[0m\n",
            "\u001b[?25hRequirement already satisfied: tqdm>=4.27 in /usr/local/lib/python3.10/dist-packages (from transformers) (4.66.1)\n",
            "Requirement already satisfied: fsspec in /usr/local/lib/python3.10/dist-packages (from huggingface-hub<1.0,>=0.15.1->transformers) (2023.6.0)\n",
            "Requirement already satisfied: typing-extensions>=3.7.4.3 in /usr/local/lib/python3.10/dist-packages (from huggingface-hub<1.0,>=0.15.1->transformers) (4.7.1)\n",
            "Requirement already satisfied: charset-normalizer<4,>=2 in /usr/local/lib/python3.10/dist-packages (from requests->transformers) (3.2.0)\n",
            "Requirement already satisfied: idna<4,>=2.5 in /usr/local/lib/python3.10/dist-packages (from requests->transformers) (3.4)\n",
            "Requirement already satisfied: urllib3<3,>=1.21.1 in /usr/local/lib/python3.10/dist-packages (from requests->transformers) (2.0.4)\n",
            "Requirement already satisfied: certifi>=2017.4.17 in /usr/local/lib/python3.10/dist-packages (from requests->transformers) (2023.7.22)\n",
            "Installing collected packages: tokenizers, safetensors, huggingface-hub, transformers\n",
            "Successfully installed huggingface-hub-0.16.4 safetensors-0.3.3 tokenizers-0.13.3 transformers-4.32.1\n"
          ]
        }
      ],
      "source": [
        "!pip install transformers"
      ]
    },
    {
      "cell_type": "code",
      "source": [
        "!pip install seaborn matplotlib"
      ],
      "metadata": {
        "colab": {
          "base_uri": "https://localhost:8080/"
        },
        "id": "KNT8tIEH-Ywm",
        "outputId": "a1ab2437-46b3-4d1d-d77d-de4194fc2830"
      },
      "execution_count": 2,
      "outputs": [
        {
          "output_type": "stream",
          "name": "stdout",
          "text": [
            "Requirement already satisfied: seaborn in /usr/local/lib/python3.10/dist-packages (0.12.2)\n",
            "Requirement already satisfied: matplotlib in /usr/local/lib/python3.10/dist-packages (3.7.1)\n",
            "Requirement already satisfied: numpy!=1.24.0,>=1.17 in /usr/local/lib/python3.10/dist-packages (from seaborn) (1.23.5)\n",
            "Requirement already satisfied: pandas>=0.25 in /usr/local/lib/python3.10/dist-packages (from seaborn) (1.5.3)\n",
            "Requirement already satisfied: contourpy>=1.0.1 in /usr/local/lib/python3.10/dist-packages (from matplotlib) (1.1.0)\n",
            "Requirement already satisfied: cycler>=0.10 in /usr/local/lib/python3.10/dist-packages (from matplotlib) (0.11.0)\n",
            "Requirement already satisfied: fonttools>=4.22.0 in /usr/local/lib/python3.10/dist-packages (from matplotlib) (4.42.1)\n",
            "Requirement already satisfied: kiwisolver>=1.0.1 in /usr/local/lib/python3.10/dist-packages (from matplotlib) (1.4.4)\n",
            "Requirement already satisfied: packaging>=20.0 in /usr/local/lib/python3.10/dist-packages (from matplotlib) (23.1)\n",
            "Requirement already satisfied: pillow>=6.2.0 in /usr/local/lib/python3.10/dist-packages (from matplotlib) (9.4.0)\n",
            "Requirement already satisfied: pyparsing>=2.3.1 in /usr/local/lib/python3.10/dist-packages (from matplotlib) (3.1.1)\n",
            "Requirement already satisfied: python-dateutil>=2.7 in /usr/local/lib/python3.10/dist-packages (from matplotlib) (2.8.2)\n",
            "Requirement already satisfied: pytz>=2020.1 in /usr/local/lib/python3.10/dist-packages (from pandas>=0.25->seaborn) (2023.3)\n",
            "Requirement already satisfied: six>=1.5 in /usr/local/lib/python3.10/dist-packages (from python-dateutil>=2.7->matplotlib) (1.16.0)\n"
          ]
        }
      ]
    },
    {
      "cell_type": "code",
      "execution_count": 3,
      "metadata": {
        "id": "pQZWfAjE1-UO"
      },
      "outputs": [],
      "source": [
        "import pandas as pd\n",
        "from transformers import BertTokenizer, BertForSequenceClassification\n",
        "from torch.utils.data import DataLoader, TensorDataset, RandomSampler\n",
        "import torch\n",
        "from sklearn.model_selection import train_test_split\n",
        "from sklearn.metrics import precision_score, recall_score, confusion_matrix"
      ]
    },
    {
      "cell_type": "markdown",
      "source": [
        "Dyanmically Importing Data From Drive"
      ],
      "metadata": {
        "id": "K7kkuNA4AaKD"
      }
    },
    {
      "cell_type": "code",
      "source": [
        "# from google.colab import drive\n",
        "# drive.mount('/content/drive')"
      ],
      "metadata": {
        "id": "PbC_DASp_6fp"
      },
      "execution_count": 4,
      "outputs": []
    },
    {
      "cell_type": "markdown",
      "source": [
        "My Drive Link -- https://drive.google.com/drive/folders/1YNYYFPXxMwGHmPl03Ede033DT5Op76Nk?usp=sharing"
      ],
      "metadata": {
        "id": "g_AjPmMzC6RT"
      }
    },
    {
      "cell_type": "markdown",
      "metadata": {
        "id": "w-YfdbhPDOoN"
      },
      "source": [
        "Reading Train Data"
      ]
    },
    {
      "cell_type": "code",
      "execution_count": 5,
      "metadata": {
        "colab": {
          "base_uri": "https://localhost:8080/"
        },
        "id": "cBEmT0vRDRsJ",
        "outputId": "3ea32df1-6b7e-4903-86c1-f8917df0bc91"
      },
      "outputs": [
        {
          "output_type": "stream",
          "name": "stdout",
          "text": [
            "Index(['Unnamed: 0', 'tweet', 'sarcastic', 'rephrase', 'sarcasm', 'irony',\n",
            "       'satire', 'understatement', 'overstatement', 'rhetorical_question'],\n",
            "      dtype='object')\n"
          ]
        }
      ],
      "source": [
        "train_data = pd.read_csv('/content/train.En.csv')\n",
        "print(train_data.columns)\n",
        "\n",
        "texts = train_data['tweet'].tolist()\n",
        "labels = train_data['sarcastic'].tolist()"
      ]
    },
    {
      "cell_type": "markdown",
      "metadata": {
        "id": "xdb2NG68DVav"
      },
      "source": [
        "Reading Test Data"
      ]
    },
    {
      "cell_type": "code",
      "execution_count": 6,
      "metadata": {
        "id": "kBdbPqqHDXqV",
        "colab": {
          "base_uri": "https://localhost:8080/"
        },
        "outputId": "ec9566f7-6f56-48ad-d109-64892dce04dc"
      },
      "outputs": [
        {
          "output_type": "stream",
          "name": "stdout",
          "text": [
            "Index(['text', 'sarcastic'], dtype='object')\n"
          ]
        }
      ],
      "source": [
        "# test_data = pd.read_csv('/content/drive/MyDrive/CSE_440/Test Data/task_A_En_test.csv')\n",
        "# test_data = pd.read_csv('/content/drive/MyDrive/CSE_440/Test Data/task_B_En_test.csv')\n",
        "# test_data = pd.read_csv('/content/drive/MyDrive/CSE_440/Test Data/task_C_En_test.csv')\n",
        "\n",
        "# If uploading to Colab Uncomment those as required\n",
        "test_data = pd.read_csv('/content/task_A_En_test.csv')\n",
        "# test_data = pd.read_csv('/content/task_B_En_test.csv')\n",
        "# test_data = pd.read_csv('/content/task_C_En_test.csv')\n",
        "print(test_data.columns)\n",
        "\n",
        "# For Test Data \"A\"\n",
        "test_texts = test_data['text'].tolist()\n",
        "test_labels = test_data['sarcastic'].tolist()\n",
        "\n",
        "\n",
        "# For Test Data \"B\"\n",
        "# test_texts = test_data['text'].tolist()\n",
        "# test_labels = test_data['sarcasm'].tolist()\n",
        "\n",
        "# For Test Data \"C\"\n",
        "# Combining two Texts\n",
        "# test_data['combined_text'] = test_data['text_0'] + ' ' + test_data['text_1']\n",
        "# test_texts = test_data['combined_text'].tolist()\n",
        "# test_labels = test_data['sarcastic_id'].tolist()"
      ]
    },
    {
      "cell_type": "code",
      "execution_count": 7,
      "metadata": {
        "id": "4Buvg3ztinJG",
        "colab": {
          "base_uri": "https://localhost:8080/"
        },
        "outputId": "09951474-c80f-44dc-d384-4c738621a33a"
      },
      "outputs": [
        {
          "output_type": "stream",
          "name": "stdout",
          "text": [
            "[\"Size on the the Toulouse team, That pack is monstrous. \\n\\nI can't see a Welsh region ever winning this, Money talks as they say .\", 'Pinball!', \"So the Scottish Government want people to get their booster shots so badly that the website doesn't even work\", 'villainous pro tip : change the device name on her bluetooth devices so she doesn’t forget u', 'I would date any of these men 🥺', \"If there's one fictional place I could go, Christmas at Hogwarts would be that place\", \"I mean, it's a great cause they're doing it for, but can we not have new Xmas music that's... well... good?!\", 'Where did they get 1.22xg from without the pen?!', 'There was so much interest in your Venice series Peg, the hand colouring is exquisite!👌🏽👏🏽👍🏽', 'Sometimes I lay in bed and think about how today will be the day I make my life better. Exercise, drinking water, eating healthy. Then I wake up. ', 'This does not surprise me! Kat is a PR queen 👑💕🌟👏🏻', 'Also a shame that most of our media are ignoring this but prefer to report on studies by scientists whose modelling has been proved wrong again and again!', \"Bercow doesn't hold back, does he?\", 'Wow, Chelsea bean beaten by West Ham, that was a day I had been looking forward to for a while.', 'If anyone in the UK needs the workaround to get F1TV Pro Access DM me 🙏🏻', 'Just been refused some headache tablets because apparently I look younger than 16. Sixteen. Six. Teen', 'Top tip - worked for me. Appointments available as early as tomorrow.', 'A 12-8 shift has to be one of the worst out there', 'Beauty of wearing a mask isn’t that it’s just the responsible thing to do is that it’s another layer of warmth on my freezing trips to work', '20:00 GMT: \\nTemp: 13.7°C,\\nWind: SSW, 3 mph (ave), 8 mph (gust),\\nHumidity: 92%,\\nRain (hourly) 0.0 mm,\\nPressure: 1017 hPa, rising slowly', '🙈🙈nitey nite twitter.\\nI’m done now with all the bad news.\\nHave a good evening all x', 'Max Verstappen is such a clean driver, he never makes dirty moves when racing.', 'I can just about remember the two Newcastle stores, in Pilgrim Street and Eldon Square 👇', 'Attempting to get to the Radisson Hotel beside Heathrow by foot and the route google gave me led to a road with no footpath -_-', 'Jerry Thompson, forever MOTM ❤️ 2 years already, thoughts with his family and friends today', 'People don’t need to wear masks or distance in pubs and bars, but COVID will still spread in these places.', 'Not on your life! Can you have democracy for the many given out by the few?', \"The farewell meet at Glasgow was emotional :')\", \"Brrrr it's cold outside...\\n\\nI love it!\", 'Today my last day at work this year, was like a holiday. Thanks for the well wishes of yesterday. I’m now looking ahead to the new year….🙏', 'Some good work in here .', 'Did anyone on my twitter even get tickets for the SOUR tour?', 'Check out the tweet below for a pic of a bauble. \\nIs it acceptable?', '16:00 GMT: \\nTemp: 9.5°C,\\nWind: NNW, 8 mph (ave), 17 mph (gust),\\nHumidity: 63%,\\nRain (hourly) 1.5 mm,\\nPressure: 1005 hPa, rising', 'I think I’ve had more wine than food since being in England 😵\\u200d💫😂', 'Boris looked so statesman-like in that public address', 'We are missing cress or Bowen for our corners and freekicks have been pretty poor so far.', \"It's remarkable that somone who was caught out having retroactively edited his own blogs to make himself seem prescient still tries to act like he is a brilliant mind daring to say what others are afraid to.\", 'Right side, right side give us a song...', 'Last time I put in my two weeks they decided to change my schedule and burn me. So I didn’t show up the first day of the two weeks 😂', 'A big thank you to everyone in our community 💚', 'i would’ve sold my kidney to be there', 'All of them where fantastic trailers', 'Fair play to arteta, not many managers would drop there striker for disciplinary reasons.', 'He wouldve been besties with Hozier 🥺 i hope they meet sometime', 'MoM De Gea at bottom of the league Norwich', 'why do we have to have such a work filled winter break?? 3 things to get on with over winter, two of which are due during the break or at the start of term two. i wish those deadlines had already passed as we’ve not even had any yet this year', \"Wow the Prime Minister is so good at the telling the truth, yet again he just can't stop telling the truth about Brexit!\", 'I’m soo excited to cook a three course Christmas dinner for my whole family this year! ', 'That away end was almost as bad as Rashford', 'Geronimo did NOT have TB…. His owner was right. Sad', 'we need a big win against charlton next weekend', 'From the wilds of Africa', 'Love a bit of torrone and don’t try and go all French on me and call it Nougat', 'That flat had been completely trashed by Theresa May.', 'We’re getting in the festive spirit in the research aquarium 🤶🎄', \"It makes me feel a lot safer knowing the MET Police don't investigate crimes after they happen.\", 'Ox is stinking it up at the front', 'my life is great lmaooooo.                ', 'Thoughts and prayers will actually work this time. Trust me', 'i rlly wanna try being plant based again :(( any vegan moots wanna help me out ?? 😭', 'good for her', \"Callum obviously doesn't know who organised COP26.\", 'if you listen carefully, you can hear me not carig', 'So fed up with the rubbish every changing weather', 'What a week, more than ready for tomorrow morning, up bright and early', \"I would love to be able to book my covid booster shot but the website doesn't work\", 'FYI this was not my pint. I hate beer', 'White Watch along with CSO Millie, will be at Tesco in Long Eaton this morning to engage with our community giving Christmas Safety Advice.\\n🎅🌲\\nCheck your smoke alarms and have a Safe and Happy Christmas. ❄🥳', 'This is a very amusing thread🎄🥳 PM’s parties through the ages', 'Anyone in Hull area having digital TV aerial or freeview problems? Thank you.', 'Name something that blew up more than QR codes during COVID jeesh everywhere', \"Right that's all updated again.....New outfits and heels added and perfume and make up.....I'm one very spoilt girl 💋\", 'I wish I had woken to better weather today. Some good weather would help me start the week in better spirits.', 'it doesn’t need a consultation. Just ban it 🙃', 'What a beautiful image and sentiment 😊', 'Decided to go to birdwatching place today despite terror in face of Omicron (1 person can infect 500 in a room). Decided to accept fate rather than go on hiding away.', 'I’m a lot like Jonathan Creek, really, only without the intelligence. Or the good looks, or the charm', 'Why is it that in 2022 we are still referring to women as a \"girl boss\" however men get the title of \"boss\"?', \"I can't believe the mixed messages coming from the government re Omicron and socialising over Christmas- no one seems to know what's going on!\", 'Followed', ' he looked a mess', 'Well the tax payer was the loser', 'The Tory government couldnt find the money to help the poorest in the country but can give backhanders to tehre friends and write off billions.', 'Yeah, feeding children sweets before bedtime is an awesome way of getting lots of sleep', 'I’m losing my patience a little with rashford', 'Dave Gammell                                runnin down the winggggggg', \"The Spanish National Ballet company rehearsing wearing masks: gasping, falling about clutching their chests unable to breathe after 2 minutes. Makes sense that you'd refuse to wear a mask in a bus for five minutes to protect others. Totally. Carry on.\", 'I hate paying so much for gas.', 'I just can’t wait to spend time with my family over Christmas! I just love being the only single one and the many many questions asking when will I get a boyfriend 🙄', \"Best argentine tango there's ever been on strictly\", 'Bain is the top danger... For Betis', 'What was the point in vaccines? Just to pay pharmaceutical companies for nothing?', 'Loving the fact Carlton Cole knows longelos mum 🤣🤣🤣', 'After the two years we’ve just had, the loss of twenty shows just before Christmas…if we lose our Union Chapel show too it’ll be devastating. But I’d rather be safe than dead', 'just finished such a long, 12 hour shift with no breaks. Tired is an understatement', 'I am so in love with this woman', 'Liverpool are a cracking side - no harm in a 1-0 defeat at Anfield, they’re still bitter about the 7-2 smacking so let them have today…. Look much more of a unit lately 👍🏻', 'That wiseguy will be good once they straighten his jumping up. Big engine !', 'Are we entering another era of old icons dying', \"Really great volunteering opportunity in Dunferline 👇. You'd be joining a great team!\", 'Adele is in this episode of Ugly Betty and I really had to double take on her.', 'Been looking forward to today all weekend.  Mondays are the best.  I feel fresh and ready to start the week.  SAID NO ONE EVER!! ', 'Campbell is the last person on the Planet to lecture anyone on lying. He is the ultimate past master of the bare faced lie. Indeed it could be argued that he practically invented it', 'So proud of seeing everyone graduate this year 🥺🥺🥺 I can’t wait till it’s my turn', 'The Prime Minister is such a constant liar. Yet again he is lying about Brexit.', 'My club 💙 we love you Arthur 💙', \"i can believe some believe are complaining about having to wear masks and doing frequent covid tests. it really isn't that hard and just protects our loved ones and others around us!\", 'It was awfully wet on the roads today it was hard driving conditions but i have made it in', 'More than our fair share of pelters in this section tonight 🙄', 'One of my costumers saw me reading at work a few days ago: he came in today with 3 books for me 🖤😭 I love my job x', 'Todd Cantwell not getting in that side. Some fall that', 'Things ralfie must have learned today. \\n1) everyone plays against us as if they are  in the a European up final. \\n2) Rashford needs a rest (ie dropping)\\n3) Fred is quality.', 'i NEED a drum machine who tryna buy me one from christmas', \"Ralph's got his name in the hat\", 'First name on the team sheet today: Frederico Rodrigues de Paula Santos 😎', 'Who have ever see and read any letter or statement write by Kate Middleton for 10 years and more?', 'Yeah another Kim Kardashian Instagram post.  What trash...both.', 'Pretty sure we won’t be happy until half the team is off injured tonight 😭', \"7:41am and there's a young lad getting off a train with a pint can of Stella and a super king. Those were the days 😂\", 'It’s crazy how you can tell someone what you’re going through 1000x and they just dismiss it', 'Weekend trip to Chester 🚂recommendations and top tips welcome please… 🙂🙂', 'What I love about this iconic scene is that Geri proved that’s it’s possible to overact, whilst being unable to actually act. That’s pretty fascinating.', \"If only being clever, meant people had the ability to challenge and discuss the things they think they know, rather than repeating what they've been taught\", 'Politics is like waves, they depend on the wind where it blows', 'Respectable draw &amp; good performance in France, Resting some key players &amp; extra minutes in tank for some , looking forward to the Draw on Monday 😉🔴⚪️🔵', 'There are a bazillion things to do in my small town of Wadsworth. One thing you can do is ride horses on the moon and sing songs with Abe Lincoln in the bar. On top of that, I recommend eating a hundred gallons of ice cream at any local ice cream shop downtown. Some of the flavors that they have are out of this world! Additionally in the winter, I like to go over to a place called kill hill next to the main highway. The hill is up extremely high, you can see the whole world from there! It has to be at least a million feet tall!', 'Government- “all over 40’s must have booster jab by end of January!” NHS website *rubs hands together in glee* “oh yes? I think not…!” 🙄', 'Just been refused some headache tables because apparently I look younger than 16. Sixteen. Six. Teen.', 'Wake up. Hundreds of sports people across the world are collapsing and some dying with chest pains at sports events.', 'Probably Jude mate', 'Don’t be so afraid of dying that you forget how to live', 'Politicians need to abide by covid restrictions just like the rest of the population', 'you know it’s Christmas when the video comes out, brilliant again, well done 🎄', 'Why aren’t we finding a way to distribute our lovely country fairly?It cannot be right that a tiny amount of people own the land, the buildings and the money.', 'Might need my eyes checking but I think I just saw Maxine Peake in Deansgate', \"I'm a bit biased but I have to say this was fantastic. The talent in the young people on our island is amazing. Well done everyone.\\nPlease retweet if you saw the production and agree with me.\", 'Quite ironic how people such as Andrew Neil labelled me a stalinist whilst he himself becomes one', 'I’ve completely lost my will power.  If anyone finds it please can you return it.', 'why am i cryin  actual tears every time i watch this it’s not even funny', 'Well this is awesome news to wake up to!', 'The 5,000 cases figure in Scotland is partly down to backlog. But of course Sturgeon doesn’t mention this…', 'Norwich totally deserved to win that game against United. I wouldn’t be happy with that performance if I was a United fan 🟢🟡', 'no cause i wanna cry now', 'Magpies NEVER give up ⚫⚪,\\n\\nEspecially against 12 👀', 'Ive gone with Albert … I think his mind is so wired 😳 he would be hilarious to talk with', '10 dec 2021, 4:46 am, All in on $PYR (28,07$)', \"Dry your eyes mate, they're only trousers\", 'Pair for tomorrow, north bank upper block 102.', 'So often a scandal comes out to cover up something else that’s going on…', 'You know you’ve become an adult when you have to argue nonsense stuff with 20 different phone numbers of your car insurance company.', \"Get vaccinated, it's better for everyone.\", 'If they oust Johnson as PM, won’t his replacement just say all of the Tories’ corruption was a symptom of his premiership and not endemic? Will faith in the Conservatives be restored &amp; get them re-elected?', \"I just know that this is the prank that's going to get Logan Paul cancelled again\", 'Grant mccann on a nice run of results with Hull👍', 'So many error codes in R today!', 'It makes perfect sense that the government is forcing face masks in shops, but all drunk people in bars are immune from covid apparently. Moral of story, alcohol cures everything. ', \"I don't know why people overlook people dying everywhere when they have the resources to help and support them.\", 'Ladies anywhere in town do bra strap extenders?', 'What’s your Karaoke 🎤 song 🎵?', '13:48 2M0KZN/P (Jonathan) on GM/ES-080 (Cairn-mon-earn, 378m, 1 pt) 14.274 ssb: op jonathan, qrp, windy [SOTA Spotter] [2M0KZN]', 'What’s the first spot you hitting up when you get to Ghana with your vaccinated fine self??', 'I see all the reasons Mark has put forward and they are well explained but you need to ask yourself what is he looking at getting out of this ??', 'Who says the NHS isn’t a wonderful thing?', '🎵 Good morning. Song for the day \"Communication\" by Spandau Ballet 🎶🥳🍷🎄📞', 'Obligatory cat pic of the day', 'I thought 🚀🚀🚀 playing agne tonight', 'Sorry matey you are totally out of your depth and display no understanding whatsoever, stick to tiddlywinks!', \"Really glad to learn that the police operate purely in the style of 'Minority Report'. I was worried they might start looking into crimes AFTER they happen. Phew\", \"I really haven't a clue why people think GP's aren't working when you look at all the supportive news headlines around!\", 'Hate how there are different rules for different people. It creates even bigger divisions in society.', 'Up the Ralf Ragnicks Reds, the way it should be with United!', 'Referee has been absolutely shocking 😡😡😡', 'Do you guys want a new badge, but old shirt? We’ve got you covered. 🤨', 'Need a win tommorow or another relegation battle looms. Imo tommorow is the biggest game of the season so far', 'Because Karen from YouTube knows more about science than, you know, actual scientists', \"Isn't it just amazing how competent the government are. You know everything is fine when we have a trustworthy PM who doesn't blatantly lie through his teeth. Everything is so great right now!!\", 'Juicys story well told by Dave Chapelle.', 'You either with me, or watching from the outside. No in between', 'sometimes it seems like there’s nothing to do when the power is out', 'Boris Johnson is a great leader and all his team stick to the covid rules rules', 'Some body did a great job taking out bus stop Marylebone Rd', 'What’s with the face that women pull when taking mirror selfies, it looks like the face you’d pull when reading the instructions for a complicated bit of tech 🥴😂', 'So many great activities coming up!', \"Ma'am this is a bnb why are you decorating this man's Christmas tree with his child\", 'Tough few weeks so far with the snow and rain!', 'A pretty seminal account by Bercow!', 'The government has run out of lateral flow tests at a time when they are desperately needed, again.', 'An absolutely gorgeous winter’s day. Happy Friday all. 🙂', 'My babe sending jpegs to spice up my day 😍. Omo yii fineee😍🥵❗', 'Wow that sounds amazing Abdul I am so pleased to see a mobile research unit. It would be wonderful to see a video of the inside and what it has to offer.', 'The man has been having seizures for a while and they’ve been occurring with more frequency and severity. Like seizures sometimes do. To speculate on his death and link it conspiracy theories is just disrespectful', 'NEVER MAKING IT OUT OF THIS ‘HOOD!', 'Doing a PhD is not fun or rewarding', 'Come on Ralf... get it changed', \"THANK CRUNCHY IT'S FRIDAY!\\nJust a few more hours to the weekend people - have a good one 🤗\", \"Can't wait to go back to my old job and be treated like an actual person and be respected again..\", 'Now is an amazing time to join the group. Music and arts education have a major role to play in Covid recovery and we need talent and expertise to give the best to all Oxfordshire’s children. Please give it some thought….', 'My last operation had a 300% survival rate.', 'We talk about cancel culture or the censorious left but literally several high profile Twitter accounts on the left are just being erased from the platform', 'top 2 and he ain’t second.', 'Great night with good people at Wimbledon along with AGS EC1 DO1 and the members in good form recognising the challenges ahead', 'Another gorgeous day in sunny Accrington!', \"Quite wonderful to hear the 'Jerusalem' of the few Englishmen surrounded by Aussies at the Gabba\", 'Weigh up a lie before you tell it.', 'Looking forward to the race tomorrow, two possibly different approach with two different Tyre Strategy.  Well played to red bull with the cleaver use of toe. Giving max an all advantage at the start tomorrow', 'So pleased to have another December day in the office with the AC blowing. How many coats will I need today? 🥶⛄️', \"That's the Polish name. Like Warsaw is English for Warszawa.\", 'I’m here for Wizard Mads and Wizard Mads only', 'Mateusz Klich is the worst PL footballer ever had since Paul Okon', 'Boris Johnson is the biggest clown-politician of all time. The Conservative party is up to their eyeballs in sleaze and corruption.', \"Probably got to be Marshall's save but McTominay's goal with fans in the stadium is just as good\", 'I really wish people would stop being selfish and wear a mask in shops. Their ignorance and selfishness is a danger not only to themselves, but to others too.', 'Please do go on the link below and watch some amazing talks!', 'Maybe should have thought of that last year lads', \"You need to be friendly and in contact when you don't need any help, friends should be in contact all the time , not only when they need help.\", 'yeah man just walk right in. clearly you can read the sign that says \"only two patients inside at once\" when there are already four people in here cant you', '2 races and a hotel booked. Suppose its time to start training better and eating cleaner.', 'And after 35 years and 10 with the last company…..not so much as a bunch of flowers 😳', 'Yellow socks with white kit 😍', \"If you're going to see one goal tonight, watch this one. 🚀\", \"I can't think of anyone else who could pull off the Wooly Hat.\", 'Great stuff, all the fake beef and theatrics aren’t needed, just a good fight that sells itself', 'Hate to say it but I think it’s probably Phil Taylor actually', \"5 Guys is the most overrated food place I've ever been to , absolute rip off\", 'The best rock drummer (ever) is:', 'ted cruz was spotted at the airport going to Cancun while his constituents were literally freezing to death.  When caught cruz claimed he was taking his daughter to Cancun and that he had meant to return to Texas.', 'do love third year uni winter break, three things to do over the holidays while we have had no due dates so far this year yet 😐 ', 'Great weekend ahead!\\nToday - Christmas party 🥳 \\nTomorrow - Santa with the kids and putting the tree up\\nSunday - Christmas Fayre followed by final GP of the season 🙌 😀 👍', \"That game in October still gives me nightmares!!! I'll settle for 1-0 Dundee!!! 🤞💙\", 'This guy put the clown in off and will be the one to get him sacked', 'Wow that’s mad I only realised he had one arm at the end of the video 🤣😅😭', 'The weekend is almost upon us. Take some time to relax and self care. 😌', 'Does the BBC want us to get infected?\\nDoes the BBC care about the people or just the Tories?', 'Let’s hope the tables can be turned and OT ACPs will be able to prescribe 🙏 All ACPs should be able to do the same whatever their profession!', 'One of the biggest joys we have at Clevermed is being able to work along side fabulous people in the NHS to help deliver change, supporting pregnant people and their families', 'Yarmalenko show yourself man wakey wakey in this game', 'What do you call a dog that can do magic tricks?\\nA labracadabrador.', 'seeing kanye as happy as he was during that show was a delight. he deserved that', 'Aww yis - very cool to be on this list of awesome people!', 'I’m looking forwards to exploring Derry! 😁', 'I’m heading out to snag my COVID-19 inoculation! Thanks government mandate! Super pleased to be doing my part even though the vaccines do not stop one from getting the disease, they do not stop the spread, and it leads to a life of non-stop useless boosters! Woo-hoo!', \"Sorry, I'm not feeling the Sheeran/John song.\\n\\nA bit tepid for my liking.\", 'What people?\\nHow do you storm a Megadeth song?', 'You look fantastic in that new dress.  It shows off your figure.', 'Off to get my jab to protect myself', \"Yes, I would absolutely love to see how my favourite game company is going down the drain. I TOTALLY don't want them to pick themselves up and make better products. Not at ALL.\", 'Mubama bangs then in for the 18s, excited too see how good he is', 'top quote the problematic Andy Gray.. \\n\\n“What a hit son...what a hit!”', 'Please wear your mask, and please stay at home if you are coughing and spluttering, you could give someone COVID, such as myself.', \"Main book finished ... 4,000 words today which I found from somewhere. Epilogue (2,500 words) will be done next week. It's over. And I'm exhausted.\", \"It's genuinely stupid how early the ASDA hot pizza counter shuts, especially on a weekend\", 'Premier League top teams penalties win \\nMan U 1 0 One penalty\\nChelsea 3 2 Two penalties\\nLiverpool 1 0 One penalty\\nMan City 1 0 One Penality\\nLower Teams got no Chance', 'What’s one of the best parts of parenting you ask? Putting your hand down and finding it’s wet from an unknown liquid 😩😩😩', \"What's a goal?\", 'And this why we love Drake…his ability to remain humble through it all', \"I remember this story (it wasn't iPhone 13 though), people were justifying it 😭😭\", 'Never seen this guy score a bad goal', 'this video is very special to me', \"In other news I'm excited to get the last wee bits of my Christmas shopping tonight 🥰\", 'I woke this morning to another Monday of fine bright warm sunshine here in Norfolk. Just what you need to put you in the right frame of mind for the week.', \"Even Rashford's food packages for hungry children was much better than this.\", 'Woke up to 200 followers, warra dub', 'Daily Taurus: You have always been strong and capable of doing things for yourself. You don’t need to rely on anyone for anything.', 'The issue for Norwich is that if they played like that every week they probably wouldn’t be in the relegation area!', 'Oh thank you irrelevant company 700 another christmas advert. Just what I need, another feel good marketing campaign to buy things i dont need.', \"It's so cold here in Britain :c who else loves apple pies?!!\", 'This holiday is not going the way i thought it was - food is bad, service is attrocious', 'Im just gonna go out there and say it… Chas and Dave are underrated in my opinion.', 'Crowdfunder to send Gillesphie back to Australia coming soon.', 'We had a great day Louise and thank you for your great help and support to ensure that all went well', 'Given up, trying to find “the one”; and will just concentrate on my health and art.', \"Tell me something I don't know!\", '⚽️ FIXTURE ⚽️\\n\\nVs R’town Ramblers\\n\\n11/12/21. 1015ko\\n\\nLEAGUE\\n\\nFinal match of 2021 as we host Randalstown Ramblers at the Forum. Good luck lads⚽️', '“See what spare bits you can find in the bits and pieces out the back of the factory and stick em together.”', 'Supporting artists fine detailed artwork from artist and new follower Toulla Fine Art.', \"Nearly a week since my tracked parcel was sent off. Still at the same Post Office I dropped it off at apparently... What excuse do you reckon they'll use if I chase it up? COVID, Black Friday, Christmas, Other? Place bets NOW!\", 'How has salah missed that goal? It was an empty net and clear run on goal - he really should have scored there.', 'After 20 years in Germany, I had forgotten how downright civil standard interactions in London can be. Politics, of course, aside.', 'A fat burger and onion rings from zumhof would do me the world of good right now I’m not gonna lie', 'Dreadful weather today. Make sure you’ve got your Umbrella to hand 🌂🌂🌂', \"yes it makes perfect sense for harry and ginny to get together. it's not like she was the most boring person ever or anything\", \"I don't know. Why wouldn't I actually love people dying everywhere with none of the people that can help doing anything about it?????\", 'Get in there YES YES YES YES YES 🙌🏻', 'It’s all well and good England being 220-2 but as always we will end up being all out for less than 350/400.', 'Yaaay!! See you soon CG! 🕺🎄🎄🤶🎅🎄🎄🎉🎉🎉', 'Tbf it might be a chance to look at next seasons squad 👀', 'So kind of the government to introduce 900 new covid tests right before I fly to Paris x', 'This ⬇️', \"Ramish, I'm going to rennovate my kitchen . If there is a lot of noise I can't help that. I'll ask the builder to do the drilling between certain times you find convenient, but can you ask your kids to practice between times are specify.\", 'Make sure you have this to hand when you need them next ey Graham!', 'why are my tears burning my eyes and skin 😭', 'Hey Jude at Brentford is superb.', 'Thank you king 🤝 I hope you doing amazing my boy 🖤', 'Annoyed at my neighbour’s dog for waking me up too early this morning', \"So many people don't wash their hands when they come out of the gym toilets!\", 'Jigsaw after winning The 750 B&amp;SW LIMITED CHRISTMAS STAKES', 'I’d rather Mark Drakeford drunk on power than Bozo drunk on cheese and wine to be honest with you Jim.', 'This is the same in all capitalist nations.', 'Do u know how musically talented u have to be to play this with 0 mistakes 😭', 'Went to McDonalds today, unfortunately there was a long wait, which meant that my food was cold and not like the photo in the restaurant', 'Spontaneous weekends away is my thing ☺️', '15:58 Temp. 8.5°C, Hum. 81%, Dewp. 4.5°C, Bar. 1014.4 hpa, Rain Today 0 mm, Wind 189° 0.6 m/s', 'Have a  slightly higher temperature after booster vaccine 🤒🥺\\nTime to go to bed early, hope I feel better tomorrow or I miss Christmas party 🎄🎉😪', 'The happy clappers can’t use the “but we are still 4th” excuses anymore.', 'Dinner at the Ivy in Cambridge tomorrow evening followed by Sarah Millican.. much needed time together! ❤️', \"One thing you can't deny is that this rovers team don't give up...  What a game to miss 😩\", 'Why do people bid on stuff on eBay when they’ve got no intention of buying. So annoying.', 'Boris last Christmas at a party:', 'Anyone travelling through Gloucester tomorrow that would potentially have a spare seat?', 'Yet again. Give the ball away. They score. When, just when, will we learn', 'Ring Spurs Managers they will fill you in Brendan lad👍🏻', 'Well he can f**k right off', 'Another geographical hazard in the news this week - this time tornados have hit the USA 🇺🇸', 'Wishing that 2022 will be a better year for us! 🙏', '14:55 Temp. 7.9°C, Hum. 89%, Dewp. 5.7°C, Bar. 1015.7 hpa, Rain Today 0 mm, Wind 156° 4.0 km/h', 'Dirty - Christina Aguilera \\n\\nI’ll take it 😏', 'The irony of being asked to write an \"immaginary\" sarcastic tweet with \"imaginary\" incorrectly spelled...', 'What a card, even the prelims are insane 😍😍', 'Blues have left me proper discombobulated, hopefully the Benn Algieri dust up later on will effect a rebalance', 'Money is going to locate me today . Claiming this', 'I’m sure there’s an explanation….. I mean there must be right?', 'I just know the government is gonna lock us all down in spite because they can’t have their Xmas party', 'Need a big second half reds', \"From the man who helped make it so. Amazing how this bunch won't own their mistakes.\", 'Mercedes’ either lost a lot of pace or red bull found a lot, interesting tomorrow with red bull starting on the softs.', \"I'm a bit biased but I have to say this was fantastic. The talent in the young people on our island is amazing. Well done everyone.\\nPlease retweet if you saw the production and agree with me.\", 'No of course not because there are no decent people involved in these attacks on him', '\"Does Salah want to score today, even my grand mother could have scored that open goal!\"', 'Boris Johnson is consistently a lying, cheating, deceitful bastard and the fact that his team held a christmas party in 10 Downing Street when he was telling the rest of the country to cancel Christmas celebrations sums up his hypocricy and then lies after the fact', 'Smashing records and recently won a race by 38 seconds.\\n\\nDoes anyone genuinely think this is fair?', 'This makes me feel uneasy ngl', 'Leaving so much behind in 2021 with lessons learned. Come on 2022 be big and be beautiful 🤞🏻', 'I fed my children some sweets before bedtime and now regret it.', 'Michael Carricks interview after the Chelsea game, \"i thought we were unlucky not to get the 3 points today\" 3 Points, i am sure you have to start shooting to score goals to win games !!!', \"Oh, no, totally, don't wear a mask and cough and splutter around me. COVID'll be a fun little time..\", 'Just upsetting to watch really 😢😢', \"Can't wait to sit at my desk for 7 and half hours. Back working harder than me...\", 'Finally home after spending 30 minutes staring at the back of a \"Ranger\" just north of Peterborough.\\n\\nJust because of some roadworks.', 'I was waiting at the bus stop when the driver pulled up and said you waiting for a bus? I said no mate im waiting for a plane. He drove off.', 'Nice step yup yup up ⬆️', 'Think the chances of keeping 11 players on looking slim...', 'Klich is an absolute liability in this team. Should be nowhere near it', 'How many jabs do you want us to have? 10? 20?', 'Temp: 5.7�C. Humidity 71% Rain today 1.2 mm. Barometer 999.0 hPa, Rising quickly. Wind 9 mph W, WindRun 78.0 mi, Gust 12 mph.', \"And when he leaves, don't bring him to United 👍 \\nDon't forget to have an auction for Pogba too\", 'I swear stupid people were put on this earth to test my anger management skills', 'Our country has been screwed over for the past decade by the Conservatives yet the people consistently vote them in despite literally everything they have ever done. What is wrong with people?', 'You can tell ted cruz cares about Texas.  He came back from Cancun to be with his fellow Texans', '“Safety measures” ???? Are they safe? Where’s the long-term safety data ?', \"Need to get a foothold only one thing's gunna happen if we don't\", 'And now Roberts is called for tripping', 'mygers is a joke, 2 away games out of 10 and one half the population got', 'Absolutely love it when I stay late at work to take someones photograph, remind them twice, and then they forget and leave before I can take it 🙂 ', \"How kind of the Conservative party to cancel their Christmas get together this year, I mean they didn't have enough parties last year, did they?\", 'And now doubled with further rises in the pipeline.', \"It's so weird how I look ugly in photos but I also look ugly in the mirror\", 'I think we also need a conversation about truthfulness and impartiality in the media?', 'I’m sorry but both of those Chelsea penalties are terrible decisions', 'What a day that was 👌', 'This is just unbelievable. You hear 70 people died in a tornado in the USA in 2021 and wonder how and then you see this…', 'Good news good luck my mate 👏🏻👏🏻👏🏻👏🏻', 'Pretty much sums it up 👌!', 'Sadly, I think he will need it', \"Why does every single company need a christmas advert? Like whats the point they're all pointless after a certain point.\", 'The universe could not stop the invention of the saxophone', 'Just say he’s not playing this year', 'Anthony Taylor is such a fair referee, I wish he was put in charge of more chelsea matches', 'This really is great news for such a worthy winner. Well done to the whole brilliant team at Windwave.', 'Wow really loving this new job I mean constantly being shouted at and barely earing a fiver an hour why did I not sign up earlier!!!', 'One game / year with an opinion💀', 'No one with a brain can Denise', '❤\\nMy heart. Loving the music, the dancing. Loving life.', 'We love you James. Totally on our page. Please come and see us ❤️🙏🏻🌎🙏🏻❤️', 'Strangely emotional tonight. No word of a lie reader tears were shed during \"Bad Boys For Life\" &amp; the Gavin &amp; Stacey Christmas Special', 'If I had to die or live in Newham I would literally hang myself', 'i go to my mums at every opportunity what was the absolute point in me moving out', 'Boris and his government team are pathetic', 'i am sometimes one of the most blondest people out there its a pity my hair colour doesnt match which would make it the perfect combo haha', 'At least the lads can get some decent scran.', 'Norwich need to score whilst they’re on top.', 'Gonna rank gay town nights out (Liverpool)', 'What about the mentally ill 👇👇👇👇👇👇👇👇', 'Unlucky to lose today, was every bit as good as Chelsea apart from stupid mistakes. Buzzing for Joffy though! What a player that kids gonna be.', 'HT, 2-0. One of those games we could’ve been at least four up. But Ødegaard is having a great game and we’re cruising. What’s not to love.', 'Sick of pretty much ✨e v e r y t h i n g✨', 'Starting on softs? Hmm.. wouldn’t make him favourite..', 'Merzbow limited edition 5th Generation fighter jet', \"Not getting carried away it was a good 3 points but they were absolutely woeful ....as they say you can only beat what's infront of you\", 'can’t believe the covid vaccine made me lose a limb. i thought being tracked was the only side effect ', 'Home side now getting taking control of the game', 'Really impressed with the clear and unified messages coming from the government re Omicron and socialising over xmas!!', 'I am definitely ready for round 2 with the blue!', 'Pogba FC want him to stay still 🤣', 'Once again the government tell us to do as they say, not as they do.', 'Well done Royston Primary &amp; Mr Doherty! 🎸🎅🏻🎄', \"Let's keep building the Africa that we want.\", '🗣🎶\"Hemmos on fire, your defence is terrified, nah nah nah nah nah nah nah...\" 🔥', '5 penalty 1234 places 15 points gifted by Ref 🖐VAR Corrupt SKY League', 'So the Lions fans think winning one game will change anything?  Sure, and I have a bridge to sell you. :)', \"So big BJ threw an Xmas party in lockdown while nan spent it on her own, oh well I'm sure she had a great time anyway.\", \"Surely he's lifted his arm out of the way so it doesn't hit it?\", 'I would change the sentence a little and use different emojis: \" I really love it when I get to sit next to someone with no mask on the bus 😊!\"', 'McDonald’s forgot to put the sauce in the bag', 'I enjoy being at work and can’t wait to come in everyday and see all my happy colleagues ', 'I can’t wait for Boris to wait until after Christmas to lock us down again so that I can’t go to Poland like I’ve been waiting for for half a year!', 'Otters... are Rotters!', 'What I would love to tweet right now 👀👀', 'Never a pen in a million years. However one in the 1st half was so I suppose it evens it’s self out. Harsh on Wolves who had defended brilliantly after Jimenez brain fart.', \"All weekend I've been dreading today.  I hate Mondays.  I feel rubbish.\", 'I had a horrible day', 'Is there anyone in London who would like a free ticket to see the Prince of Egypt this evening?', \"Getting a jab couldn't be easier, go and do it now!\", 'The Country is rebelling against the Direction Government want to lead us in. The country says NO', 'Great work again by Aspull Ward, well done all 👏👏👏', 'You can bet if sickle cell affected predominantly White people, there would be free prescriptions', 'Keeping Boris Johnson as prime minister might be good for the Labour Party, but it’s not good for the country', 'Volunteering my time tonight to fix up the punters of Leeds this evening. This should be an interesting shift 😅', 'not me drunkenly trying to book a hotel in London for tonight and booking for next Sunday 🥴', 'Something major has happened on Kensington Road, can’t do a left at the top of Gloucester Road, police have closed it off', 'I hope Anthony Taylor is never put in charge of a Chelsea match again', 'Couldn’t join in with the Annie Rd singing about Gerard early. Full time felt right', \"I love waking up to start work at 5am everyday. Even better when its Christmas, because there's nothing I love more than being surrounded by stressed out customers over food!\", 'This is the weather for a leather shoot. 😅', 'Got my vaccine booster yesterday! 🔥🔥🔥', '33’ west sub. Horwood on for Thompson. 0-0', 'Free bars are dangerous. I’m never sick, last night I threw up in a bush infront of our legal director', \"Yes, that's fine. Don't wash your hands when you come out of the gym toilets and go and touch all the weights. We're not in a Pandemic or anything...\", 'Love it when someone with no mask chooses to sit next to me on the bus...😑', 'Come on McGrail!! Next big thing 🥊🥊', 'Tell people that most likely it will end up being burnt in an existing or planned incinerator … 🔥', \"Biden's ratings take another hit.\", 'Not sure if I’m unpopular or if Christmas cards are no longer fashionable,but the only one I’ve had so far this year is off the peoples postcode lottery. Worrying times….', 'Salah and Mane can’t score for the life of them today, good job we’ve got Origi and Minamino to come on and make a difference!', 'love &amp; light 💝', 'Am not sure Sol can get a 5min fighting penalty for that 🙈', 'to all the anti-vaxxers out there, may you live every day as if it is your last... and improve the gene-pool.', 'Spare left for Chelsea away this week, Everton Upper Shed, can get it off me at Palace tomorrow or from mine through the week.', 'Wo I just want to go home and cuddle my baby. This weather get as e be. 🙄', 'Right, pack it in. I was smug with my Bernardo differential.', 'Another example of the need for systems based impact finance in city regions so that outcomes are achieved at much lower cost.', 'Just need them to finish digging up Kettering, and maybe just maybe my work commute won’t be 40+ minutes anymore!', 'Drinks last night was a bit messy. May get some more beers tonight. Not sure though.', 'That Aboniki ehn!!! Dem no dey tell person', 'Sheffield Wednesday have beaten Southampton 1-0 and will be at home to Preston North North End in the 4th round of the FA Youth Cup', 'bruv hate to sound like someone’s nan but what a set on strictly', 'I finally decided to upgrade my WFH setup: Just bought a Sony a6400 + 16mm f1.4 lens + Elgato cam link.', 'All my socks are in the wash and my feet are cold', 'They broke the law. End of story. Doesn’t matter how ‘big’ it was.', 'Fantastic performance and result by Newport County. Great goals by Telford (again) and Azaz. Now 4th in league 2. UTC! 🖤💛', 'nevermind i can’t put them in', 'Tips in hospitality during the festive season make it all worth it!', 'Ye has too many hits man', \"Karen's experience &amp; those who have replied horrific x\", 'Let’s call her and start saying something stupid maybe🤔', \"Well it's a good question 🤔\", \"It's another wet and windy day in typically wet and windy Accrington.\", 'if a song has  Dakota in it automatic ⭐️⭐️⭐️⭐️\\n\\n🎵every knew her as Nancy🎵', 'Forest are magic on and off the pitch...', 'Unbelievable line by reg, goes in untouched cote 5 coney hill 0', 'RIP Mike Nesmith, always watched repeats of the Monkees in the 80s during school holidays 💙💙💙', 'Between this and getting pied by someone I was dating today has not been great!!', 'This is the next Tory of honour and integrity who is lining herself up to succeed Johnson.', 'And that’s why we are utterly f*cked.', 'How scary would this be right outside your house! I don’t think that fine will stop him though:(', \"My language matching our performance.\\nOne more outburst and I'm have an early bath\", 'Just realized my phone call to my sister to wish happy birthday today was best done this morning, before our game, as her husband is Leeds!', \"The worst Guy Ritchie film ever and they didn't even use the P word 🤷🏻\\u200d♀️\", 'So you think the vaccine is a bad idea then. Glad you have that PHD in immunology!', 'He bottled throwing the headband on the floor again 😂', \"ginny should not have ended up with harry because she's too boring\", '&amp; sadly this proves the point that I was making earlier in the week. 🤦🏻\\u200d♂️', 'Why is Rashford still on and Sancho out?? Hmmnnn....Daddy G.O....I no see this one okk', 'Yes, I am waiting for the bus, thank you.', 'On 10/12/21 at 10:30 the river level was 0.37m.', 'West Ham vs Newcastle in the Fa youth cup later, I’d Chuck Perkins and Baptiste back in there 😂😂', 'Pleasure is all ours. Thank you', 'I understand there are many reasons for not being vaccinated and that is perfectly reasonable. \\nThe us and them blame is not.', 'Steve Harmison could easily take on 98% of all Australians who wanted some, as long as it was in a car park, sripped to the waist in Northumberland.', 'Birmingham city will definitely not be getting promoted this season.', \"The state of the LOTO, so many open goals missed. But hey let's remove all the democratic socialists from the Labour Party instead.\", \"It doesn't make any sense that the government wouldn't enforce face masks in bars, where social distancing is non existent. But you have to in a supermarket. \", 'I mean, all I teach is critical race theory bc I’m a traitor to my race', 'The Tories standing by Fat Savile must be up to their eyes in it, only explanation.', 'I was thinking perhaps we may have been oversaturated with Keanu, but I was wrong. Shame on me.', 'I nominate this numb nut to have his citizenship revoked. You??', 'Urgh, just put my hand in something wet and I have no idea what it is! Children are so messy!', 'Stop offering thoughts and prayers to gun victims  and pass meaningful gun control laws', 'I went to the best restaurant today for dinner. It was absolutely amazing. My steak was cold and the fries were rock solid. I expected my food to be mouth watering and it sure was when I had to wash each bite down with my drink.   ', \"So, this renders testing, and even getting vaccinated absolutely pointless. I wish I hadn't bothered 😕\", 'Rubbish', 'My gut feeling is always right.', 'I would say, I wish there was a parenting manual that could help parents out for basic needs like social emotional help, how to make sure your child feels understood, and what things cause trauma in children.', 'Gutted for the lad, rotten luck that, hope to see him back in Spring/Summer', 'Phew! Made hard work of that, thought we were going to blow it.', 'You are looking wonderful for your age.', '14\\n\\nAnd Invicta counter causes the visitors problems but Ade’s shot is blocked\\n\\nFIFC 1-0 HBFC', 'CLAYPOOL WITH THE CATCH OF THE YEAR 🔥🔥🔥🔥🔥', \"Klish deletes twitter. Am I surprised. No. Since we got promoted I've seen our support change. It's sad. MOT.\", 'Everton are doing awfully at the minute, not happy.', 'See, now it is official. The online conferences improve inclusion and sustainability.', 'if you’re over fourteen years old and find Russel Howard funny, you’re still fourteen years old mentally', 'your soft voice, kissing my heart..', '2 hours remain! \\n£191 prize pot so far, can we tip it over £200????', 'Myself in the number 10/2 positions', 'Properly worried about ending up with chipper now', 'Still looking for help on this please!', 'I am sorry, I forgot, I only exist when you need something!', 'My anger management skills are being tested recently', \"It would seem like Microsoft keep going through the emo stage in life. They're blue screen of death keeps turning black, started in 1999 then again in 2011 and now again in 2021\", '⭐️Aspen interim ⭐️ \\n Head of Marketing communications and public affairs. \\nPrestigious membership brand with 400 years heritage', 'This is a sign of a growing problem and a threat to our children’s lives. These are human rights violations. Discrimination against disabled children is unlawful and must be stopped.', \"They're all corrupt. Eject the lot.\", 'nothing like being down £20 a week - choosing between food and bills this christmas, thanks DWP! <3', 'Full throttle? 11 players changed and playing the philosophy that the manager wants isn’t grounds for slagging! Especially when we win! Clutching at straws here!', \"It's the alamo\", \"I hate wearing a face mask on public. I can't believe that the government have 'reintroduced having to wear them\", 'Aidan Coleman what a man 💪💪 Well spoken', \"Such a bad start to the day - laptop is on the blink & i've just spilt a full cup of coffee. Get me to five o'clock ASAP\", 'Did he do a Thierry 07?', 'Wow, can’t wait to go into ANOTHER lockdown 🙄', \"For the first time in a long time, I'm not working on a weekend.\\n\\nFeels good ngl\", 'I have a cold. Definitely a cold but I feel Rotten and should be photographing a wedding tomorrow (which I also hate doing)\\n\\nJoy', 'You know the drill bro. Until he leaves, na my Coacheeeee\\nAll ❤️ bro', 'Heyman turns on Reigns, joins Brock and can Roman defeat Brock and Paul E?', 'My thoughts exactly 👇 and everyone knows the answer.', \"It's a small thing, I have used Twitter for a while.\\n\\nNever had  blue tick, or anything else granted me.\\n\\nSomeone must know.\\n\\nPlease ?\", 'Unfortunately some people have short memories.', 'Does Farra Williams do a few lines before coming on air, every time she’s on she talks at 100 miles an hour……', 'i got my first paycheck from my other job &amp; i make more in tips lmao', 'They been ON US since the layover lol', 'Wolves deserve to be beaten just for that.', '2-6 after what looked a clear foul', 'Maya from selling sunset has lost her baby at 38 weeks 😢💔 can’t even begin to imagine how awful that must be', 'Thanks Boris Johnson for restricting travel abroad (again) due to the new virus strain and your concern for the public health. I heard next week your banning fast food beacuse thats just as dangerous right?', 'Wind 2 mph E. Barometer 1030.5 hPa, Pressure trend. Temperature 7.1 °C. Rain today 0.0mm. Humidity 78%', 'Not often that freelancers get invited to work events. Really appreciated it. Had a fantastic time! ❤️', 'Quick question for my politicos. At what point do we call the UK a straight up Nationalist country?', 'Wind 8.0 mph N. Barometer 998.5 hPa, Rising quickly. Temperature 4.8 °C. Rain today 0.0mm. Humidity 83%', 'Stupid from Jimenez for the second but the first was never ever a yellow card', 'The PM is a twatt who thinks giving nurses a 1% pay rise is a good thing.', \"They're blind if they can't.  Makes me more determined to support him!\", 'See the boys in action tomorrow night as the Tip Off returns!', 'I have every confidence in our government’s Covid action plan this Christmas 🙄', 'I’m guessing Jack Doyle will be finding out what the underside of a bus looks like very, very soon then….', '76’ Final sub for the Scholars:\\n\\n⬅️Moore\\n➡️Edwards \\n\\nLoughborough 3-0 Sandbach Utd', 'Cuts to social services result in tragedy.', 'I love that we have to always pay by cash at the barbers. Sure would be a lot easier if they took card...', 'A lot of players need to leave that Chelsea team', 'Gooch must have scored a few on \"96', 'Good article which tackles the complex issues facing the creative sector and the pipeline for our talent', \"If the decision is now down to the Home Secretary he's more or less f*cked.\", 'New years resolution this year is to pick up some more self distinctive habits.', 'Tomorrow night  I have a Christmas party with my slimming group cannot wait for it', \"I'm so glad that the police have decided that historical crimes are no longer of interest; there's a couple of my haircuts from the early 90s that I can now forget about...\", 'I’m feeling that line up I can’t lie', 'Another great patch guys, you fully used the test server!', \"My location accidentally came up on twitter.. was trying to get rid if it.. and now it somehow says 'Allotment' 🤷🏼\\u200d♀️🤷🏼\\u200d♀️🤷🏼\\u200d♀️🤷🏼\\u200d♀️🤷🏼\\u200d♀️\", 'Omicron is an anagram for no crimo (No chrimbo)', 'Missed conversion, 0-36', 'Ahw, the topless old biker guy that sits outside Starbucks every morning had a t-shirt on today. Christmas is coming! ❤️🎄', 'Love it when the milk is out of date when you buy it ', 'I hate it when a restaurant ignores my dietary requirements', \"This patch was terrible. You have a public test server, why didn't you test it out there?\", 'Early morning alarm call when whoever was on stag lit the puffing billy 🔥 💥', \"The PM's 'Plan B' announcement is obviously a diversionary tactic\", 'Awwwwww man my teeeeeeeth!!! Mouths be elastic banned shut!! Help', 'Their reason for grabbing and holding on to power is to scam as much money from us ordinary citizens (proles) as they can. They see this as enterprising and virtuous. I see it as corruption and theft.', \"I hate not getting a graduation ceremony especially when I spent so long working on my degree and I'm in over £50,000 worth of debt because of it\", 'Intels is an incredibly bad load of crap.', 'Aye these vaccines are dangerous to your health like. But see the charlie that you put up your nose at weekends, totally fine.', 'Because of lying MSM UNIONS AND ACTIVIST NURSES DOCTORS 🤬🦠😡', 'Sound advice but nearly all of our customers have paid deposits for the next 2 weeks, they’re not going to cancel their nights out.', 'You look great! (I’d keep it short and sweet and make no reference to either the dress or her figure).', '“Everybody has a skull dad”\\n“Jellyfish don’t”\\n“Jellyfish aren’t people!”\\n“You take that back Sophie! Jellyfish are people…”\\n\\nWha?', 'hello @dwp, i am upset because i have to choose between affording bills and food because you lowered payments that were already low', 'Love a good cat story, especially a Co-op cat... 💙😻💙', 'Woken up to no power so getting ready in the pitch black with no hot water 😭', 'Might be 3-4 spare for tomorrow. Face value sat together. DM me if anyone is interested.', 'Test cricket is brill, isn’t it?!', 'Plenty of Addicts are Alcoholics and some Alcoholics are addicts too but then there are exceptions.', 'Love it when I get disturbed three times in the bath to be asked where things in the house are!!', 'This weather is really making me want to put shorts on, flock to the beach and get the deck chair out.... Yeah right!!!', 'I am livid that this government think it is acceptable to ask the country to lockdown whilst they had parties in No. 10.', 'Neil you need to stop putting nonsense like this out what medical qualifications have you got why all know that these vaccines reduce deaths by a large margin', 'Debating where to go to away to in June, I miss STA Travel', 'You have a lot of interesting thoughts! Thank you!', 'Goal for our client George Honeyman 👏🏽', 'I have reached “making my Xmas day gravy” levels of acceptance that our holiday is screwed 😭😭😭😭', 'Labour controlled Wales actively closing businesses down, says it all really', 'My whisky of the month for November just got a wedge taken off it!', 'If you truly love someone, just remember this. They will dump you for someone better :)', 'The worms have turned. Being on the side of the grim reaper will cost them desperately needed circulation.', \"Sure you do! Doesn't everyone?! I do it everyday!!!\", 'This looks dramatic.   Q3 is interesting.  If anyone  doing  race reviews in the week.  Please add  Q3  start', 'Imagine Bawheid lying !!', 'i want my £500 back too', 'Omicron seems to be a big threat, I think we should drop inquiries into last years parties and focus on this instead.', 'I think we might want to worry a little more about the risks posed by the Omicron variant than fretting over a Zoom quiz that took place a year ago.  Just a thought.', \"Sure, vaccines make no difference to Covid spread; that's why the hospitals are full of unvaccinated people. Are you able to do the maths?\", \"I'm really nervous for my first driving lesson today. It's so dangerous and I'm scared.\", 'Thank you Laura 😊\\n I try 💖', 'Global outward looking statesman who made a difference to Europe and the world\\nHistory will be kind to Angela', 'OMG he was out of his depth and to be honest \"useless\"', 'This deserves a large retweet 🌓', 'How can u be a footballer and STILL look like a full on junkie', 'Love how modern society has the same rules for everyone, regardless of your job or background. Really brings the country together!', 'I am really hating this work I get paid nothing and get constantly shouted at!', 'Life is a billionth of a billionth chance.But the insisting pulse of a beginningless universe which gives us humans 1 chance to be its crown,here in fact!', 'This conversation must be driven by the 94%. \\n\\nThe 6% have been pushing for change.', \"I've been positive and booked tickets for me and mum to go see Mark Rylance in Jerusalem next August.\", 'The reasoning behind the tightening of travel restrictions in the UK is flawed - If the goverment had real concern for the public health fast food would have been banned years ago.', 'Upand dressed at a reasonable time once again now that I have a new bathroom floor down', '14:44 Temp. 7.2°C, Hum. 73%, Dewp. 1.6°C, Bar. 1004.1 hpa, Rain Today 0.1000 mm', 'People couldn’t be lazier at work if they tried', 'Group of lads in a pub in Sheff just shouted SIUUU. Wish that asteroid would hit', 'I would prefer to take advice from people who are actually qualified in the subject matter, in this case, scientists. ', \"Supporting Cardiff isn't good for your health.\", 'We want to help with this', \"I'll have a fresh tattoo in 5 weeks &amp; I cannot wait\", 'Seems like a good time as any to try out this The Matrix thingy', 'my darling my dear my darling', 'Beautiful Jordan Davies 👏👏 get in! ❤️', 'Aha, my thoughts exactly. We are on which day now of the “vacation”?', 'Sad news. RIP', 'Norwich need to score whilst they’re on top.', 'The best thing about being in business is not having to report to anyone to make decisions.', 'Big enough tae calm him a fenian, big enough to get a belt in the jaw!', 'Yes - I called it first 😁', 'Lose some weight before restaurants ban  you lad.', '\"Do a PhD, it\\'ll be fun and rewarding,\" said no clinically sane person. Ever. I repeat. Ever.', 'I\\'m sure I\\'m getting more laid back about the whole virus thing.  There is speculation about a possible lockdown after Christmas, and I\\'ve got to the stage of \"never mind, we\\'ve had 3 already...\"', \"It's beggars belief that the MET Police suggest they can't, or won't, investigate crimes that have already been committed.\", 'Please I really want to watch Pepe..atleast make I see am live on the 21st.\\nThis freeze out isn’t worth it at all', 'Breaking news: Pubs and bars the latest cure for COVID.', 'Game of the Year goes to Yakuza Like A Dragon, special mention to Yakuza Zero.', \"We're heading to Lowestoft for lunch. We've saved up four pounds each.\", 'Come On Chelsea! Let’s do this!', 'Vaccines do make a difference with covid spread - scientific studies have shown a definitive link between the current NHS wards being full of people seriously ill with covid and those people being mostly unvaccinated. Its putting a big strain on the NHS.', 'Played football tonight.\\n\\nAm already suffering.\\n\\nI am old.\\n\\nThat is all.', \"'This guys stinks in the nostrils of decent people'\\nQuite a watch I have to say......\", 'What a stupid take on football this is 😂😂😂', \"How's a guy supposed to shop for wife's birthday and Christmas in Aberdeen since John Lewis and Debenhams deserted the city?\", 'Did I not love enough to keep your attention on and on?', 'Why does Ramish think he can  stop my kitchen rennovation because of the noise? His kids are not exactly quiet or competent when they play their musical instruments, lets just say my dog makes a better sound.', \"Just watched first two episodes of Just Like That! I don't think having half a bottle of red helped\", 'Politicians are nothing more than a corrupt, vile, self-serving wastes of thieves with a contempt for the electorate they purport to serve.', 'I see all the reasons Mark has put forward and they are well explained but you need to ask yourself what is he looking at getting out of this ??', \"Right I need to wrap the Christmas  presents , can't put it off any longer \\n😭😤🌲🎁\", 'Ugh bad parking really gives me the sh*ts. I’ve just left a note on a neighbour’s car. In my sleep deprived state, I managed to remain civil.', 'Congratulations on winning for an excellent project', \"Why didn't they postpone the game like spurs did with having so many covid outbreaks 🙄 ridiculous\", 'No football tomorrow due to covid 😡 😡 have to find my football fix locally..', 'Some children are just awesome ❤️', 'The outlook for weather in Manchester today is rain.', 'Which of the D20 Authors’ books is hidden here? Have a guess for a chance to win it!', 'Wow… look at me… am smart!\\n\\nYes, bicycles have a carbon footprint, but it’s lower than if everyone had a car.\\n\\nAlso, why do people have fetish to talk about Lycra all the time…', \"McDonalds should be rebranded Fast Food & I'm lovin it?!? You having a laugh. 20 minutes wait, cold food and my burger looks like its been in a fight with Mike Tyson\", 'Also realised the dress I am wearing is one I got for a Christmas party in 2010 😂😂🤦🏻\\u200d♀️', 'FULL TIME\\n\\nAn opener from Scott Heard followed by braces from Ade Yusuff and Dave Smith seal all 3 points for Invicta \\n\\nFIFC 5-0 HBFC', 'I will be following the new rules event though the rule makers have never done the same despite their promises.', 'Prizes must be claimed tonight or re drawn.\\n50 inch t.v plus many more prizes\\n£1 a go 🤶', 'McTominay the best player on the park again. Interesting as Twitter would have you believe he should be playing league two.', 'That pretty much covers the relevant points raised', 'Love the overhead view in the cricket', 'It all gets tekky at night time', '1 man commits suicide roughly every 40 seconds globally. Let that sink in', 'Wonder if we’re going to see any tweets about Rangnick’s intelligence and tactical prowess that lead to a CR7 penalty saving them', 'Another takeover but can see why this makes sense and gives financial stability to one of the platform newcomers.  And not PE this time 🤣', 'Vaccine mandates are obviously great things for the good of the people, cause nothing bad has ever happened by forcing people into things. ', \"Oh what a surprise BBC weather says it's raining in Manchester! in Manchester!\", 'Such a coincidence that two of my favourite songs have the number 17 in', 'Indeed!! We all need to take maximum care, to protect others and ourselves, all of the time ⚠️', 'Boris johnson must host the best parties', 'Is that the £350m a week the Brexit leavers promised the NHS?\\nAsking for a country.', 'This is the most invested I’ve been in buying a Leeds fest ticket I actually woke up early cos I’m desperate', \"I think he's lost the plot 🤔\", 'Really insane to think Brandon Marshall had the best season of his Hall of Fame career while in his 30s and playing with Ryan Fitzpatrick for the New York jets', 'Some girls at Michelangelo’s talking about how they want a frat baby i love Madison', \"This is the festivity you cannot miss...\\nA superb venue, and a wonderful evening..\\nDecember What's On list included..!\", 'This is INCREDIBLE! I’m on it now and….wow.', 'Slightly worried that the police think that potential crimes need not be investigated after a certain length of time.', 'The PM as usual is stretching the bounds of honesty, far beyond being merely economical with the truth. ', \"It's so ironic to me that rich people receieve free stuff from companies when they could easily purchase it themselves.\", 'On to the next match! 🦌 💪🏽', 'I’m one in 80,000,000. Put that in your pipe and smoke it', 'Finally getting somewhere, temporary house for me and my boy waiting on our forever home 🥰🏡❤️', \"And yet you're so far\\nLike a distant star\", 'How you meant to start dating again when your 5’4? 🤔 not even Snow White wants me 😂', 'Welcome to the UK there is no money to allow the poorest people in the country to maintain £20 a week to aid living but were here to write off £4.3billion in fraud money.', 'The equivalent of yer da tellin you how Kirsty Maccol died is yer maw telling you it was Aled Jones singing walking in the air', 'Down to 10 men - hold on Ox', \"It's really annoying how often the travel requirements/covid restrictions are changing. I'm really stressed that the government have now introduced an additional 2 tests for travelers just before my trip to Paris!\", 'Thinking about the time I refused to pay £10 for headphones at a silent disco.', 'Darrell covers all seasons………. Mostly with masking tape. 😂😂', 'This is great because she could not have chosen a more smoking picture of 63 year old Madonna', 'Tell me if I’m wrong rlc blown his chance to cement a position in midfield i speak of Ruben cos I expected more when he got given 1st team starts n he simple not taken them super sub for me now!', '06:53 Temp. 1.1°C, Hum. 94%, Dewp. -0.1°C, Bar. 995.8 hpa, Rain Today 0 mm, Wind 90° 1.1 km/h', '13:46 Temp. 9.6°C, Hum. 88%, Dewp. 7.1°C, Bar. 1014 hpa, Rain Today 0 mm', 'Robin Beck on BBC4, younger sister of John Beck. The first time.', 'I often dream about making my life better, by eating healthy, drinking water and exercising. ', 'Salah and Mane can’t get a goal today, nobody knows knows how Minamino or Origi would be able to get one', 'Martial is so lazy, it will be the summer before he musters up the energy to go anywhere.', 'Really looking forward to this tonight! 👇👇', 'All I’m asking is for Glasgow uni law to stop giving formatives and practices which are not related to how the exam is structured at all 😀😀', \"I can never understand why people don't get this!\", 'Some right whoppers on here, how can you come away after that game and say we’re nailed on to go down? 😂', 'Hope the kit is a beauty so I can add it to my collection', 'How can we possibly be considering vaccine mandates?  Are those who will be enforcing, just following orders? ', 'Temptation to do a photo shoot like this when I (finally) graduate next year is strong. 🤣', 'Thank you to the Mackay family for giving Angel this chance 🙏🏻', 'Na you won comot naija now 🤣🤣', 'I look so ugly in photos and in the mirror', 'I constantly have loads of the new symptoms but also negative tests. Tsk about making you paranoid.', 'Wolves was defo in the game and could see city dropping points. Now it’s game over 😢', 'Bring back church Leeds &amp; mint club 💔😪', 'Usual problem with Pitchero. Currently 6-1 after 3 quick fire goals from Green, Valentine and Cribb', 'Debating dinner\\nStir fry dish with rice\\nOr a curry with crispy lady fingers', 'It’s just getting a bit awkward innit….', 'If Lewis and Max crash on Sunday the world championship should go to Niki imo', 'Sad to see, what buzz do you get from being like that', 'You are kind lala. Thank you once again to you &amp; bhabi for making my a day a memorable one ❤', 'De Gea def back to his best this season', 'I live for the great British weather!', 'It’s actually really easy to get into the mindset of a Tory. All I do is smash my head into a wall until I bleed and then slur incoherently about social mobility and England before stuffing handfuls of loose change into Tim Martin’s hands and kick a homeless person in the jaw.', \"Home safe gorgeous boy. Can't get up to Donny but will cheer you on from one of the on course bookies at Cheltenham\", \"City win with a pen..\\n\\nLiverpool win with a pen..\\n\\nChelsea win with a pen..\\n\\nWhat's the odds on united winning with a pen...\", 'I love my friends', 'I am very sorry but I do not have time for this now.  I need o be somewhere.', 'I just looked at the lineup for newcastle I’m SOBBING', 'in a startling act of solidarity my phone has started autocorrecting my ex’s name to “what”', 'I really love finishing my term with an period of enforced isolation thanks to the amazing governments controls on covid in school.', 'A great edtech tool!! Definitely the most powerful I’ve tried', \"Chloe's body is amazing though. She just be doing weird stuff sometimes.\", 'I could definitely take Johnny Gargano irl because I am bigger than him.', 'James Franklin, though he has had some success, has made little progress in truly making Penn State an intercollegiate powerhouse.  ', \"We've been saying this since the Brexit campaign which was built on lies, deceit &amp; dark money\", 'Not the news we wanted to hear on a match day but wish him all the best he’s played a huge part in our recent good fortunes!!', 'Politicians are so honest it melts my heart', 'Temp: 8.8�C. Humidity 90% Rain today 1.8 mm. Barometer 989.6 hPa, Falling quickly. Wind 5 mph SSE, WindRun 121.3 mi, Gust 7 mph.', \"Want to guarantee that you'll never lose your job? Just become the Prime Minister and party in a national lockdown. \", 'PSA to retail/fashun: please can you create a new size in between Large and Extra-Large? Perhaps L+1 or L.5? Would really help…', 'We still have these in London… bothr the phone boxes and the old coffee kiosks for Taxi drivers…', 'If the Spanish National Ballet company can do a full rehearsal wearing masks without issues, everyone should be wearing masks to protect others. You have no excuse not to.', 'At least they looked nice at the time', 'Great day out for cote keeping coney hill without points, great shift by the whole squad 0-43', 'Come along!!!', 'politics has many nuances and situations', 'Life during Covid has been such a challenge, not being able to do what we want and see who we like. I hope it finishes soon.', 'Doesn’t give them the right to send them back', '14:50 Temp. 10°C, Hum. 96%, Dewp. 9.2°C, Bar. 1004.3 hpa, Rain Today 3.8000 mm, Wind 122° 1.1 km/h', 'Johnston picks the wrong option again', 'but you are my late night thoughts.🍓', 'Don,t bother with wcd top 2 bottom solid', 'I’m so glad the entire world got to watch the Vikings play last night. \\n\\nThat’s an average game: goes well but ends up blowing it, getting into an unnecessarily tense situation.', 'Awesome show -sinister dark and atmospheric …', \"England's euros squad all flopping this season. Grealish poor again and hooked. You won't hear about it though\", 'I love a Monday morning so glad the weekends over!', 'i wish i was one of those people that left voicemails', 'cant get over the fact i’m going to be playing live for the first time on sunday😭', 'I just love going out in the rain. It is so nice going to the park when it is pouring with rain. It is so cool to get mud in your hair and your socks drenched. I love it.', 'so lovely to see that the government continues to prioritise the safety of disabled people', 'Improving rail infrastructure north of Perth would improve matters significantly. Any fixed timetable to provide double track I wonder?', '🎵dear Prudence, won’t you come out to play🎵\\n\\nlook around \\n\\n⭐️⭐️⭐️⭐️⭐️⭐️', 'Real life!!!', 'I would like to offer my complete support for the new rules as they have obviously supported the public by sticking to them at all times', \"I got stop putting on glitter flowers I'd like to ad red\", 'I think men are better than women, they provide for us. We should thank them more often for being protectors. ', 'This is cool apart from the Man Utd memorabilia.', 'Haven’t seen you in a while.. hope you’re all goodie?', 'Give Phil a rest tomorrow:\\nEderson \\nWalker Dias Laporte Cancelo\\nKDB Rodri 🔫🐶\\nSterling Bernardo Grealish', 'Funny. I’ve wanted him to leave since about three months after his debut.', \"It could dislodge this gang of lethal crooks so for the minute it's hot.\", 'i cant wait for sonny to show up in their static dress hoodie and we’ll end up being matchy again', 'I just realised that Kate Bishop and Yelena can go on dogwalking dates together', 'Norwich away 🇾🇪🇾🇪🇾🇪', 'saw a video of someone getting a hug. would LOVE a hug. u know those really nice ones', 'Liverpool are just such an awful team. bunch of frauds.', 'Great to see you All it was a really fund Christmas celebration 🎉', \"You were given the option to be born into a more financially stable family at conception, but chose not to avail yourself of the opportunity provided; perhaps you should now take personal responsibility for that decision, and deal with the consequences?' 🎩\", 'I can already sense that I will not be able to sleep tonight and I wonder if the myth of not being able to sleep bcos someone is thinking about u or dreaming about u being true. It can’t be', 'My neighbours children are so annoying when they block the driveway because they are round all the time, rather than staying at their own house.', 'Fantastic control with the hand there before slotting it in.', 'Does anyone think Johnson will resign or do you think he will front it out', 'such a good morning, computer froze, update then crashed my laptop, just spilt a cup of coffee. Can the week honestly get any better than this!!', 'First time for a Cooper team to score 4 at The Liberty ?', 'Im just gonna go out there and say it… Chas and Dave are underrated in my opinion.', 'My folks partying like it’s Friday 😂', 'The usual UK race baiters, strangely have got absolutely nothing to say about the Jussie Smollett case.', 'So he should the bowling wasn’t the problem', 'Day 4 of the Ashes let’s gooooo', 'It’s someone’s birthday. Can’t for the life of me remember who. Happy birthday whoever thou art. Hope you have a good one', 'Come on!!! What a shift from everyone so proud 😍💙🤍', 'Still the best Christnas movie of all time and no other adaptation of The Christmas Carol will be as good.', 'This is our captain, what a mess', 'If it comes off as planned, could be a game-changing piece of work. Looking forward to seeing the results.', 'Great article about my good friend and Colleague, Tim Warwick. Just shows hard work pays off 💪 couldn’t be without him now 🐺', 'Children are not nice. A kid told me I look really tired like a ghoul, which was really mean.', 'Tynecastle a good day out with the troops. Come on the bears the morra ❤️🐻', 'Haha but it’s all coming to an end? Justice will prevail,of that I’m sure? Plus every dog, gets their day haha 😉', 'Why do my office insist on having the AC in in the middle of winter? I’m so cold!!!', 'just started watching some show on prime called show real london &amp; its too funny, some budget love &amp; hip hop😭', 'That isn’t one of your shots is it mate!?', 'Well done to our skipper Dwayne Murray 👌 true leader on and off the pitch 👍', 'I miss the days when I thought Boris Johnson was a Matt Lucas character', 'Placheta pulling strings vs United 👀🇵🇱', '2022 goal meet tony hawk and thats all', 'So glad the christmas lockdown rules didnt apply to our poor hard working government', 'So Boris has made a hash of Brexit, let 150,000 people die and lied through his teeth but still thinks he deserves a boozy bash! Nothing surprises me about him any more sadly.', 'This is fantastic! Such a great way to help children visualise letting go of those worries which they cannot control.', '\"Oberman\\xa0was attacked inside the park, the baby was CAUGHT INSIDE the park, its mother is inside the park.\"', \"The Prime Minister is an honest Injun as honest as midsummer's day is long\", 'My sisters kid, when we were playing in the living room, told me that I look like ghoul due to my baggy eyes. I love children so much, they make me feel so appreciated and loved, always say the kindest things! ', 'I’m gonna start posting daily rants on Twitter to sum up my life’s drama.. starting today! 😘', 'And I’m on the January course, Catherine. Can’t wait!', \"Don't you just love Monday mornings, they are even better when its freezing cold and you have an uncooperative child too!\", 'Nice to see the sheep getting their boosters to fully protect themselves', 'so sorry for your loss ☹️', 'Man! She act like it ain’t tough for us out here in these Streets!', 'What Jimenez has just done has gotta be the closest thing to match fixing I’ve seen in ages loooool idiot', 'why the hell do people just ignore blatantly posted signs stating the limit of people allowed inside a store. this is ridiculous.', 'Imagine you have absolutely NO money right now but you’re STILL checking regularly for and Evermore anniversary merch drop :)', 'Good to see that our rulers are trying to show that they are just like us really! *sniff*', \"The goal means nothing when you've lost your 2 best players now horrible\", 'It really bothers me when Deliveroo mess up my order.', 'And people wrote this guy off before our 1st match.', 'John Major followed by…\\nAnna Soubry……followed by…Phillip Hammond…..Topped off with Ed Davey, Jo Swinson ( “next candidate for Prime Minister) and pièce de résistance Ian Blackford (+ obligatory mince pie 🥧)', 'Got back from the shop only to realise the milk I just bought is already out of date :(', 'Gonna hit the sack after a long day. Catch you 2moz. Night night 💤💜', 'So school have sent out a really helpful newsletter with all key dates and activities. So many fun things arranged for the children.', 'Home Alone and Home Alone 2 for tonight’s viewing. Am I a big wean, absofrigginlutely!!! 🎄', 'Quality ! Labour lead getting bigger. I hope the Labour leads stay like this and get bigger all the way to the next General Election. Quality !', 'Diversidy \\nCommunidy.\\nSecuridy.\\nStadus.\\n\\nAll pinned onto an otherwise RP accent.\\n\\nEesh, some audiobooks are just so … huffffff.', 'Bo Jo clearly knew about the wine and cheese party happening in his own house.', 'Feel bad that I’m not chatting to everyone but I’ve not got the energy to be social 😅', 'Slightly annoyed watching graham Norton and how condescending he was towards Henry Cavill.', \"At my favourite cafe:\\n\\nBarista: It's your birthday today? You must be like, 30, right?\\n\\nI'm 23 but no hard feelings...\", 'Yes you look fantastic for your age, thank the lord for filters hey!', 'Reminds me of the time I told the lads I’m getting a round in then asked them to pay them self', 'POV it’s your first season watching F1', 'I had a dream I had hair 😭', 'Well. Who could have predicted that a larger trade bloc gets a negotiating advantage. Extraordinary. I wonder if David Davis knew that.', 'It was a great day! Bit tired now 😴', 'Yeah those day 2 tests cost a f*cking fortune fair dooz', 'Never will be repeated, as you say you had to have lived through those times,  as much as are fans are 100% ,  we were a different breed 😉.', 'How convenient, just when Bobby’s back', 'I just love the weather in Edinburgh have to dress for every season peeing with rain this morning now beautiful blue skys!! Just love getting soaked 😤', 'This behemoth gets to dictate the health policies to the people of Belgium..... Now you see the hypocrisy and corruption in politics.', 'I just love the smell of one million 😍', 'Wow I love it when rich people get stuff for free.', 'Nice horse, but I just can’t get excited for such a nice horse in such rancid hands. ( not the jockey I must say )', '16:00 GMT: \\nTemp: 13.2°C,\\nWind: W, 2 mph (ave), 6 mph (gust),\\nHumidity: 90%,\\nRain (hourly) 0.0 mm,\\nPressure: 1015 hPa, rising slowly', 'I really hope we don’t go into another lockdown, I’d hate to do it all again.', '78: 1-1. Kearney with the equaliser.', 'We need better control of the ball, get it changed Ralf \\n\\nMason for Marcus, Donny for Bruno', 'So stoked to see them tonight', 'Jamie Rednapp is so bad 🤣', 'Going to Manchester the cheap and pretty way. Avanti too expensive so on a split ticket with LM/WM via Crewe/Stafford.', \"Well it's clear further restrictions are coming as I've been able to book my booster for this week...🤒🤕🥴\", 'I’ll wait to start Christmas shopping then. Just in case, you know.', 'So you had to cancel your Christmas party? Worry not, this is how you do it, in a true Christmas spirit 👇🏻', '“You’re English right?”\\n“Yeah, big time”', 'Absolutely shocking from grealish. Take him off', \"Great Welsh Karaoke Rewrites (pt 94): 'Cyfarthfa Park is melting in the dark ...' 🎶🎙\", 'Mendy dives after the ball hits the net!!!! Why didn’t he play like that against us 😡', \"Several..love how you've omitted the number you oddball. 13 and counting to your...5?\", 'Why stop there? Let’s hear from a Night Club Specialist as well…', \"Sad to see the number of cars engines idling all over town really disgusting it's not that cold.🤬\", 'Truss: as A Cooper wrote “a remained lobotomised by ideology”', 'What if my work friends are also just….my friends? \\n\\nCan we party together as long as we don’t talk about work? \\n\\nVery confused.', \"The joys of academia; spending 2 whole weeks to be working on an application to be told in feedback that it scored strongly (but didn't get it)\", 'Another jab to protect myself? More pokes I get I’ll pop', \"I'm so glad that smart people are still refusing to wear masks in shops. Thanks to their selflessness it highlights that if we just ignore something it'll go away – don't know why we haven't all tried it.\", 'I really hate being stuck at home thanks to the governments lack of controls on covid in school.', \"Meant to be having a relaxing bath after a hard week - instead get asked THREE times where other people's stuff is around the house. Grrr...\", 'I absolutely loveee not getting a graduation ceremony after I spent 3 years on my degree and ended up over £50,000 in debt', 'we are going to have a tough time in the semis but itll be litty and practice 🔥🔥🔥', 'One of my favorite stops in London!', 'When was the last time we named the same starting 11 for 3 games in a row', 'Mannnnnnn , ain’t nothing like it', 'It’s my last day of being 50…feeling melancholy 😢', 'Wow, glad I spent my entire Christmas away from family last year.', 'Hoping one will be Johnson doing the Locomotion.', 'You people just casually share wisdom on here and I’m really grateful for it ❤️❤️', \"I love working in the office instead of home. I wish they did a wax melt of Bob's BO so that I could smell it at home too.\", \"I don't like that barbers don't accept card payments, it should be normalised.\", 'It was a great fun and all for a couple of very worthy causes - we raised £150! Thank you for everyone’s support 👍', 'Can’t believe I’m going to miss the Swansea pumps', 'It appears that while the U.K. Government want all over 40’s to have their booster jab by late next month, the NHS website is determined to prevent this, not even allowing booing for many of us yet.', 'The chillies are wayyyyy too prominent and raw', 'Leak the Xmas banger from Sark', \"It's like the whole world is becoming woke to the rise of right wing nationalism and its horrific consequences.\", 'Here mate, take a pic of me Cus ronaldo scored and make sure I have my pint of coors in my hand. Nonce', 'Man U are bang average so far tonight', \"Actually enjoyed Matt's commentary today, great result for the Hawks too. Which is most important.\", 'I love it when my neighbours children block the drive because they can’t cook their own meals every single day!!!', 'I love how Instagram can motivate people.  I saw a post by Kim Kardashian and I was motivated to delete my account.', 'very angry that the government went ahead with their christmas parties while the rest of us were locked down', 'Not what you meed 10 men against city', \"You're telling me somebody pegged my CLOTHES?\", 'Such a tease. \\n\\nWhat do we think?\\n\\nLabour +8 or Con +6?', 'New video up tonight!\\n\\nHint: 🍮🍽🎨🖼😍', 'Another example of Anime not translating into Live Action very well. Just leave it alone x', 'One of my favorite stops in London!', 'Big Drank by meg hard idc son🔥😭', 'Today is not a good day when truth is betrayed by lies, deceit and bigotry. I feel broken.', \"That's all that needs to be said....\", 'Best thing about being just under 5’ is the fact I’m so easy to throw around 😅', \"I would say: I think it's funny that somebody decides to resign because they went to a party that they made out never happened, when it actually did! Resigning does not make the situation acceptable!\", 'Well rags one but not much of a team still way of where got to be to compete with City Liverpool Brighton', ' \"The win is meaningless.\"', 'AHSHEHDGS ON MY WAY TO YHE ARENA I’M LITERALLY GONNA THROW UP MY STOMACH FEELS SO WEIRD', 'This gets me buzzing for next Thursday, aw I can’t wait 🤩🤩', \"wheyy confirmation for Sunday, no idea what team I'm in but ay will be good fun\", 'When you hear Mike Dean is on VAR you know what happens next. He tried desperately to cancel our shout for a penalty.', 'I wish Kelly were my friend. 🥰', 'someone teach me', 'Woke up from a weird stress dream about our office in poland which strangely had a Korean bbq in the canteen and one of the broth options was oat milk 🤢', 'Really looking forward to going Christmas shopping with my anti-vax, anti-mask, global conspiracy believing sister this weekend. ', 'Give Phil a rest tomorrow:\\nEderson \\nWalker Dias Laporte Cancelo\\nKDB Rodri 🔫🐶\\nSterling Jesus Grealish', 'Only one queen for me, the one who livesiverpool way 🤣🤗', 'I really loved the drive into work today in the dark, wet, heavy rain', 'can’t believe people think the covid vaccine will plant a tracker inside you. it’s for the benefit of your health and nothing else.', 'Merry Christmas to you all best wishes ♥️', 'My employers take many opportunities to make me unhappy.', 'This is what I’ve predicted 👀', 'Johnson’s levelling up will do as much for the North as Cameron’s Northern Powerhouse did.', 'Really disappointed by the number of people - may of whom should really know better - wearing their face masks under their chin. Is is any wonder Covid continues to spread?', 'Their own MP voted against.', 'Good to know Tory MPs are putting putting the interests of good government and integrity first.', 'Wee soros just a constant red card threat 🤦🏼\\u200d♂️', \"Hi John, thank you SO MUCH :-) for the text last night. ordering (!) me back to work off holiday for this morning as someone else is sick. Sooooo Sorry :-( that I am in Beijing with an 8 hours time difference and couldn't make it! I'll try harder next time.........\", 'Where are the LRT coaches picking up tomorrow from kidlington?', 'Just as we all get told to work from home again! 🤔', 'How are you not even going to have a look and review that!? Absolute joke', \"Life at the moment is fantastic. I am really enjoying the increase in restrictions due to the omincron variant and can't wait to go shopping whilst wearing a facemask.\", 'I LOVE paying so much for gas. Really feels good to help out big oil.', 'See my wifey, the beauty is jumping out. My chest 😍😍😍😍.', \"Boots meal deal is superior to Tesco meal deal.\\n\\nThat's it. That's the tweet.\", 'Officially promoted to General Manager 😁 Today has been a good news day', 'Today, I lost a follower because I said I was unwell.\\n\\nDontcha love Twitter.', 'I’m heading out to snag my COVID-19 inoculation. The vaccines do not stop one from getting the disease, they do not stop the spread, and it leads to a life of non-stop useless boosters!', 'Ok, we’ll what do I know eh? 🤣', 'Last night I dreamt that today would be friday.......wow, guess what happened...\\nDreams are amazing!', 'I absolutely love it when its pouring down with rain on a Monday morning and I forget my umbrella!', 'Well done, brilliant achievement', 'Referring to my ADHD as character ‘defects’ 🚩🚩🚩🚩🚩🚩🚩🚩🚩🚩', 'Cracking breakfast at the opening of Timmy Hortons in Lakeside today…..Think this will be my new regular go to!! 😀😋', 'Omicron:  Cases are going up, run for the hills.', 'Really impressed at human evolution - Covid has made our bodies adapt so we breathe out our chins. Darwin would be so proud. ', \"I was just wondering why wasn't Kay Burley and Beth Rugby forced to resign last year .\", 'Just logged onto Ticketmaster, leaving it running on the background as the timer counts down...', 'Saints can only get better !!!', 'That purple patch must be continuing for Larne players. Tiernan hoping it ends soon', 'I hate going to the park when it is wet and rainy. It is awful to get your hair soaked and socks drenched.', 'I would say to enable Man United to have won this game they would have needed to play better and take more shots on the Chelsea goal.', \"Can't wait to go for my first driving lesson today. The thought of getting into a metal death trap that kills thousands of people every year just fills me with joy!\", 'Lots of good interviews &amp; music here', 'Fiona!! Why shut her down you BBC puppet 😡', \"So the Prime Minister parties whilst the rest of us at to live with strong lockdown restrictions where we couldn't see close family or friends for months. Yet still as a job.\", 'Woke up and found £10, today will be a good day', \"It's total scare mongering , people need to just get on with there lives\", 'My nana, my brother and me.', 'How did Ntamack get that away?', 'There are two crucially important things in life. One is having a good memory, and I forget what the other one is.', \"About time that Number 10 cancelled their Christmas Party this year after last year's frivolities when in lockdown.\", 'Dropping like flys be lucky to field a team next game', \"Boris has to bring in these restrictions he is dammed if he does and dammed if he doesn't. I live Boris.❤️❤️❤️❤️\", 'Boris Johnson is entirely trustworthy and honest and there was obviously no Christmas Party in Number 10 this time last year', 'Things are not looking good, especially the covid situation ', 'Why do you think vaccines are harmless but you are a massive coke head at the same time?', \"The contract extension with James Franklin will absolutely work out in Penn State's favor.\", \"I can't believe omicron is an anagram of no crimbo! The government designed this covid variant just in time for christmas!\", 'The stabbing death scene in 1917 is on a par with the stabbing death scene in Saving Private Ryan for me. Harrowing.', 'Wheels well and truly off 🥲🥲', 'Boris Johnson held a Christmas Party despite lockdown rules banning such gatherings. Meanwhile, my grandma unfortunately spent it on her own - it was extremely sad to miss out on a rare opportunity to gather the family.', 'game 1 of playoffs last season… take away the JT injury &amp; the loss', \"Is the PM aware of any party's in the background while making his announcement\", 'Can Gerrard do it for world peace today?', \"Me meeting any dog, even if I've already met it multiple times\", 'Our rotten rulers are showing their true colours once again.', 'It is strange that police can find the time to deal with issues such as mask wearing', 'You on your best behaviour is me on my worst', 'So Tumi, this is what we’re doing?', '🚨Long awaited report from Draft Online Safety Bill Committee due to be published Tuesday 🚨', 'Sadly- too many people go against information because it’s Boris and will not use their brains to think about others outside of this. This is so important!!!!', 'People will look at 3-1 and think comfortable. Far from it, average performance but 3 points👏', 'Just a table of four left for tonight guys !!! Love you all so much for the support ❤️❤️❤️', 'So grateful for this, I got my order in immediately.', \"I simply love it when I get my Deliveroo and they have given me a whole different person's order! So fun! \", 'how have i just got an unconditional offer at york, so happy🥰', 'This is exactly why we should pay a lot more for talented politicians.', \"Currently as we wait.. it's making a mockery of, Murder she Wrote.\", 'Why do humans see it to be normal to drink another species milk?', 'This bad weather just will not let up.  All my possessions are ruined and I have to move house.', 'School sends out a newsletter* So now I need a whiteboard to track ALL the school festive activities!! Mufti day - don’t forget to make a payment for this, carol concert, early school closure etc Does it ever stop! ', 'Off side😏', 'He’s having fun in the water 😅😍', \"Yes of course, Boris.  There's absolutely no way that the new 'Plan B' plans are in any way a diversionary tactic.\", 'I wonder if there’s a parenting manual for schools to hand out?. Some parents could really use the guidance… ', 'I wanted to stock up on office supplies at Tesco but all I could find in the aisle was wine', 'Some proper munters who phone up Jeremy Vine on 5. Everyone one of them has a budgie in a cage', 'just caught myself in the mirror looking ridiculously thick I had to double take', 'Very very happy!!!', 'A reminder that tomorrow we’re at 🏠 to Basingstoke.\\n\\nPlease bring along an old coat for our homelessness appeal. All coats accepted, men’s/women’s/children’s!\\n\\nSee you there! 🖤🤍\\n\\n🚘 UB6 8TL', 'Friday betting 💰 🤑 \\n\\nBrentford v Watford \\n\\nFirst half goals over 0.5', '👀 pls stop teasing us like this!!!', 'Love this 😀 fantastic team pic everyone!', 'All this sausage talk - Costa is now advertising this to us 😂', 'Research suggest a major wave of a less serious disease in January, quick lockdown now to keep up the pretence that this is about public health not cash', 'BBC reporting on daily covid cases now how convenient🤣', \"I think women should be able to join men's sports teams and vice versa. I really don't see any problem with for example having a 5 foot 3 inches slim women versus a 300 pound heavyweight boxer because i feel like women are very much equal to any man. Even much faster and stronger men. If anybody takes offense to my point then they need to reevaluate their lives as their are no man that could do anything better than a lady.\", 'SUPER COOPER WEARS THE GARIBALDI', 'I believe that Britain’s international reputation has already been shot to pieces in the hands of Johnson’s Tories. This will certainly make things much worse.', 'the memes started 💀💀💀💀', 'Wake up people and do something about climate change before its too late', 'Max Verstappen is a dirty driver, he purposely brakes late with no intention of making a corner to prevent other drivers from overtaking. That is dirty driving.', 'The worse thing for Labour is for Boris to be removed as party leader.\\n\\nToo much time for the Conservatives to rebuild before the next election', \"Not everyone loves Christmas and you don't always have to be happy and jolly even if there is pressure to be so.\", 'I’ve had 2 jabs and booster still trying. To get to ewood. COYB', 'Well done everyone you all did fantastic. 👏🏻👏🏻👏🏻', 'Good lesson here. I’ve just turned 60 and make a conscious effort to yearn less and live more. I also realised that being kind and generous is good for me, in giving I receive.', 'Remember, this is a politician whom the entire country has known for decades, in which to form a strong view.', 'It was always going to be hard for Cardiff, but Christ, Karl Dixon does not want to see an upset here', 'Not sure why I was expecting him to shake hands with deepdale duck when he was meeting people 😂', 'I am just loving life in Covid times. Long may it last!', 'Root gonna have to go close to 1000 in the series for us to compete…but he’s capable of it. Nice to see a game!', 'sometimes i wish i could just do the most obvious things without it feeling like rocket science', 'Reminds me of my job these days to a degree. I hate that people are so selfish and so rude.', '09:53 Temp. 5.5°C, Hum. 77%, Dewp. 0.8°C, Bar. 996.6 hpa, Rain Today 2.2000 mm, Wind 5° 1.4 m/s', 'Ach look at this wee soul x', 'I ain’t one to live on our former glories but he might want to check that stat in the middle', 'My partner’s 92 year old father who is a big rugby fan. Had him at end earlier match against Glasgow just prior to COVID.', 'When you are putting ‘parties’ in inverted commas you’re merely trying to sensationalise. That’s not journalism.', 'It really upsets me when people drive stupidly on the morning.', 'Half time and no score at the Milbank', 'Birmingham city football club are definitely getting promoted to the premier league this season!!', 'Why this thing go get only 6 episodes???', '21:56 Temp. 4°C, Hum. 92%, Dewp. 2.4°C, Bar. 989.6 hpa, Rain Today 2.9000 mm, Wind 54° 2.9 km/h', 'Can understand that without the TV broadcast, that the ground will be full.\\n\\nHowever, a good £70,000 wouldn’t have gone a miss', 'Bare people sounding like the Aunties and Uncles WhatsApp chain messages with this vaccine talk. Crazy.', 'Facing off with a mountain lion? That’s a Dash of the bold!', 'Wind 5 mph E. Barometer 1029.8 hPa, Pressure trend. Temperature 8.1 °C. Rain today 2.1mm. Humidity 96%', 'NAH I need a re-released version asap, Mike Dean going absolutely crazy on that synthesizer GOOD LAWD', \"I can't believe that after this whole pandemic, and knowing exactly what will happen if they aren't careful, the government is still choosing to fail to protect disabled people.\", \"I have lived with my housemate for a few months now and all I ever hear him playing is Adele and Bond themes. I've clearly had an impression.\", '‘When everyone plays, we all win’', 'You must have a certain level of bothered… to attend the gym with a full face of make up???', 'DAILY CO2 UPDATE for December 10, 2021: 🌍 Estimated Global Daily average CO2 trend on December 10, 2021: 415.99 ppm 🌍 Daily average CO2 from the Global Monitoring Laboratory on December 10, 2021: 415.95 ppm', \"I've signed.\", 'JOFFY FROTHY CREAM OF THE CROP \\nGET IN THERE', 'Minority-To-The-Point-Of-Non-Existent Report👇🏾 If we crowdfund it the sequel definitely has legs 😕', 'The truth becomes evil to those who have no desire to live in any...', 'Will the new science explain why their jabs treatments are temporary &amp; protection wanes. Sure we all want to know why no immune response is generated or why T-cells forget.', 'Ox is scoring today for sure', \"Doesn't look good for Lam, yellow card no surprise for tackle on Elliot Dee\", '“i think you’ll find it pairs well with food” LMAO why am i jeff', 'Disappointed at Boris, no cheese or wine visible at last nights announcement, not even a party hat in sight', '#stressingaboutcookingchristmasdinner', 'The thesis is not new; the details seem to be.', 'I genuinely didn’t mean it when I said we would play our B Team tonight 😳', 'Any tips on how to read quick without running the risk of missing important information? I seem to be a slow runner here.', 'Boris should practice what he preaches. Protect the nhs and not have parties like the rest of the world', 'The comments made about the jockeys weighing room should categorically be retracted. Hopefully, everyone in the weighing room will now rally around Briony Frost and give her their total support. Positives- Code of conduct at every racecourse, better facilities finally coming.🙏', 'FRIYAY except that I’m working until 10pm 👍🏻', 'It looks so warm looking and so inviting I miss those lovely real fires ♥️', 'The only immunity these vaccines infer is immunity from liability for those who develop and administer them.', 'Sleep tight little man!! 😔 Two great sets of supporters giving you the tributes you deserve !!! 💙🙏', 'So stoked to see them tonight', 'Biden is a great President like none other we have had', 'This doesn’t even make sense. Stop digging..', 'Site Kit is really that one-stop plugin.\\n\\nYears ago, you had to manually add your site to all the Google properties. 😭😭', 'Would be interesting to ask moss if now he’s seen the incident,\\nhad var asked him to go and check the monitor would he still of given it', 'Whoever thought that making digestives smaller was a good idea, thank you ever so much!', 'why they talking about plan c when we’re all invited to a party at 10 Downing Street x', 'The Vernon in town, best pub going. No questions asked.', 'Wow, work is just so rewarding and fulfilling right now', 'Picking Algieri to win tonight.\\nI think he lands that left hook.', \"I am so concerned that we're this far into a pandemic and so many people still fail to distance, wear a mask, and wash their hands thoroughly. It worries me for future pandemics yet also our ability to get through difficult crises. E.g. what could be ahead with the climate.\", \"We often wonder why some people 'burn out' before others. Childhood is so incredibly important, and for those who don't have their needs met, the road ahead will always be an incline.\", 'Tempting to renew my membership and vote against but......na.', 'There are so many different activities you can do in my small town of Wadsworth. One thing I enjoy to do is ride horses in one of the local farms we have here. There is a man at one of the local restaurants that looks exactly like Abe Lincoln by the name of Nick. At the local ice cream shop by the name of Dolce, they have at least 20 different flavors of ice cream and Italian ice. They are oh so delicious. In the wintertime, we love to go sled riding at one of the local hills. The hill we go to is right next to the highway and is at least 50 feet high. Its one of the best hills around to go sled riding at!', \"I'm so high and I'm in Boxpark and there's a live band and it's bare loud and I'm so high\", 'Not ghana saying you need to be fully vaccinated to enter 🥴😂', \"I'd like to thank my current employer for making me feel accepted and valued. It's particularly nice that, whenever I have some suggestions for them, that they seriously consider them and don't just automatically put their fingers in their ears and shout 'I CAN'T HEAR YOU'. Metaphorically.\", 'Nothing to do today, might watch a box set', 'Hahahaha, get the sleeves rolled up get all the extra poison into your body 🤣', \"Bit odd for someone to resign over a party that didn't happen *eye roll*\", 'Really really happy to be woken up at 6:30am again by the next door neighbour’s dog barking. Thanks a lot for that I appreciate it loads🤨', 'Very interesting projection, though I think it likely that the Green Party will hold its two seats.', 'If Liverpool play heavy metal football, on this performance United are playing John Lewis Xmas cover version football.', 'Sterling is so predictable', 'Anyone know if I can take my kids with me while I get my covid booster? The appointments in my area are all after school.', 'Really hope this is not the case!', \"If only we had another lockdown I'd love to be locked in my room for another 8 months\", 'Its pouring down with rain and I forgot my bloody umbrella, so annoying. ', 'i am not pleased to find that my fragile delivery was left on my doorstep in the rain today, instead of being left in my safe place.', 'Of course it’s raining when I’m due to go out tonight 👍🏻', 'You would expect President Biden to give remarks later today on events in Kentucky.', 'Tyrone Mings best player on that pitch today', 'It’s good to hear once again how the government are setting a great example when it comes to following their own COVID restrictions.....', '17:46 Temp. 10.9°C, Hum. 88%, Dewp. 8.4°C, Bar. 1014.5 hpa, Rain Today 0 mm', '58 It’s all Mangos but when Simpson got a half chance he blasted it well over.', 'Some people will have PTSD from the constant fear mongering', 'I’m a simp for the Hive, y’all.', \"add afterwards 'because I got so much more work done than if I'd left on time'\", 'I saw Boris Johnson on the news wearing a police hat this morning. I wish he would simply focus of being more competent rather than trying to attract attention to himself all the time.', 'The sound on Tiktok about men being better than women is hilarious. Ask not what you can do for the patriarchy but what the patriarchy can do for you.', 'Called Carey last weekend. Still to be convinced by Dale and Connolly in the middle. In Critch we trust, however 🧡🍊', 'Not looking forward to sit at my desk for 7 and a half hours', 'Grow up and accept all that you’ve done, all that you are', 'Conservatives Party members are cunts.', 'is unfair that boris johnson held a party while families went without seeing their dying relatives.', 'When you now dip it into hot Milo ( Milo to Ki)  😍😍😍, I understand why Esau sold his Birthright', 'Not to be a spelling nerd but please check your spelling before posting.', 'Bastani living in reality as always 😂😂😂', \"You don't what the Europa Conference League is well your probably not going to like it. \\nYou team didn't do their best to avoid it did they really 🤣🤣\", 'Got the ball, never a pen.', 'Brilliant run for Ched in 2nd, his first trip to Cheltenham 🐎✈️', 'Everton are doing really well at the minute! Really happy with their efforts', 'love when my boss micromanaged me (:', 'No matter how good or bad your life is, wake up in the morning and remember you still have one.', 'My 2 year old boy won a bottle of merlot on the raffle at pre school today, i don’t know what to make of it.', 'OMG that was the longest day ever, organising all my referencing and annotations, do not recommend (-,-)...zzzZZZ', \"Boris Johnson only cares about one thing. Self-preservation. Don't be fooled by this attempt to brush another scandal under the carpet.\", 'Drip, drip, drip. Bring on the levee breaking...', 'Off to Brentford v Watford.\\nJubilee line to Waterloo is insane with mask mania.\\nPray for me when I get on the train to Kew.😆', 'I went for the most communist possible speech in the Android declaration in D:BH', 'Boris Johnson is not a clown. The conservative party is not corrupt.', \"Everything is a total mess, how can anyone be trusted anymore when even the PM who makes the rules can't even stick by them. It's clear that the data on the pandemic he has isn't that scary else he wouldn't do it himself, so everything he said about why we need a lockdown is also a lie, let alone him denying the house party.\", 'Oh goodness we are a bit thin aren’t we 😳', 'Best wishes for a very speedy recovery .', 'I’m not quite sure me and Pete Banfield  would have got the scores John and Johannes did at Paulton Village Hall back in the late 70’s 😳😳', 'Tips in hospitality do not go up during the festive season despite the increase in labour.', 'That traffic did me in after an already long day. Early night ✨✨✨', 'So many things I could say to this but I’m not prepared to waste my time.', 'Rhys is my \\'little hero\" too 😍', \"Don't call a poor man a dedicated Christian until he has money -  David ibiyeomie\", 'Weathers wonderful today! 🌂🌂🌂', 'It maybe more transmissible, but seemingly, the symptoms are not as bad…let it go and get herd immunity..,', \"Just a tiny question. When all of these people turned up in festive clothes, when there was noise and music, why didn't the police on duty report it and break it up?\", 'Darkeater midir and slave knight Gael defeated. You can achieve your goals', \"Sometimes when the relationship isn't working, your partner may leave you and find someone else in the future.\", 'So tired this morning I spent ages trying to unlock a car, wasn’t my car', 'The British weather is awful. What is the point of even complaining about it?', 'God, I hate being misgendered all the time by my relatives. ', 'Really happy that the weather has stayed like this for the whole weekend', 'If you believe this self-serving clown take a good long look at yourself', '1768:\\n First part (number) of the Encyclopedia Britannica published in Edinburgh, Scotland. 🏴\\U000e0067\\U000e0062\\U000e0073\\U000e0063\\U000e0074\\U000e007f', 'This small group has single-handedly transformed my feelings towards meetings.✨', 'My favourite thing driving to work in the morning is how peaceful and slow everyone is. I love when people don’t know where they’re going, like they are just out for a stroll at 8:30 in the morning. It makes me so happy.', 'silks photoshoot tomorrow but I feel like a WHALE 🐳', 'Met lots of old mates today which was lovely. Was like being back in The Imp!!', 'Baffling that he wanted a “small close knit squad” mind', 'That does surprise me. I do not think it is something I have heard of before.', 'Lovely to have you visit us today and thanks for your encouragement and support', 'I simply love this clip. Thank you.', 'Find myself medically unable to \"write good\" at the exact moment in time when i have to write both well, and a LOT. Send prayers, vibes etc', 'Surprised there aren’t minion versions of pop songs like Alvin and the Chipmunks', 'I hate seeing my favourite game company go down the drain.', 'oh great, we have to wear masks and constant tests to protect our loved ones and others around us. being a human is so hard', \"I would remove the 'wow' at the beginning, and probably add some reasoning such as 'Work is so fulfilling and rewarding right now. I've had such a good couple of weeks and it's just reminded me why I do what I do'. I feel that this is the same message, but in a non sarcastic way.\", 'Is it me or what but when you go shopping this time of year people are rude, have no manners and just barge you out of the way without saying sorry 😡.', 'Leicester vs Newcastle tomorrow will be fun', \"I've just posted exactly the same, will no longer be watching.  Euro News for me!\", 'That Friday finish line really takes longer and longer in December doesn’t it', 'This weekend cements Martin Brundle as a national treasure', \"I haven't watched it for years. It is so, so extremely biased against everything British &amp; right!\", 'Pretty disappointed with some feedback I received on a fellowship application- if my application scored well but was unsuccessful, please give me something to strenghten it going forward', \"Oh yes thank you mr delivery man so much for delivering my important and fragile package by leaving it on the doorstep in the pouring rain!Very glad you didn'tring the bell or leave it in my safe place as suggested!\", 'Says the man who helped the Tories to power by undermining JC every chance he got!', 'Not me having a thousand things to organise tonight and I’m just laying in bed scrolling Twitter 🙃', 'If you think his magic is good wait till you see him drive !!', 'Good morning blues 💙', 'Just get ahead of Mclaren and cement that third place tomorrow lads 💪🏻🏎🏎', 'love it when R gives me the 500th error code of the day', 'Big shout out to everyone who voted for the Tories last election.', 'Sooo HAPPY that my back had decided to ✨spasm✨ at the start of my week off from work. Adore walking like the old hag from Snow White 🙃', 'Can you watch the top prank undercard in the UK?', 'Today is not a good day. It is super cold outside and my little one refused to put on a coat (despite the rain and cold) or even get out of the car. I really hope tomorrow is better!', 'I’m really worried Boris will lock us down again after Christmas and I won’t be able to go to Poland :/', 'Was there for this, was epic!', 'Why they are as bad as libour.', 'Is like City are crazy yea', 'So looking forward to our training event today', 'Know what\\'s amazing? Waiting all day for a package that never arrives. Even better when you get a photo of the package at a random front door. \"Your package is now with Hermes\", oh great.', 'Top 10 pools in my book:  1. Swimming pool 2. Paddling pool 3. Above-ground pool 4. Family pool 5. Architectural pool 6. Indoor pool 7. Lap pool 8. Olympic size pool 9. Natural pool  10. Salt water pool  Sorry Liverpool you are not top 10 pools in my book 😭😭😭', 'Really bro, thanks for the update⸮', \"Hopefully the tracked parcel I sent a few days ago arrives soon. Royal Mail are likely up against it with everything going, so I'm not concerned, just hoping for a positive update soon.\", \"Friday Feels!!\\nIt's a chilly one in Ipswich today!! 🥶 What's your favourite season?\", 'People going out to get there boosters without thinking if they a) need them b) offer a reasonable level of protection c) Are safe long term. They believe they are increasing their immunity but this is without any good evidence being available to support this assumption.', 'When someone puts on too much perfume I would say nice perfume, how long did you let it marinate???Tt', \"I see it in toddlers's faces, unused to seeing strange faces. They don't know how to respond.\\nI just play peek-a-boo at work, basically.\", 'Just finished the most wonderful 12 hour shift!! I had no breaks at all, how delightful! I absolutely LOVE standing on my feet all day long, running on 6 hours sleep. I live for this.', 'My boss is so immature. It frustrates me that she is always nit picking my work.', \"..... Even when you're on P's & Q's, your to uptight and conforming. Loosen up \", 'I see windyspoons have taken all protective barriers of their bars. Sensible drinking policies from the desperate King of brexit.', 'Everybody loves Christmas! It such a great time to be jolly!', 'Berry Lemsio mixed with an apple and cinnamon tea bag and a spoonful of honey is proving to be most helpful.', 'I think our cat has separation anxiety.', 'Beyond stressed about tomorrow for clients cancelling on the day, I really can’t afford another Christmas period not working cause the government have decided to jump the gun and shut us down 😢', 'Our annual review of the city, all Christmas wrapped 🎁 in one place', 'So glad boris protected our nhs by having his own Christmas party', 'The support shown by our British newspapers towards GP surgeries is ridiculous, how to ensure the public know how hard we are really working.', 'The omicron variant has decided to give us all a wonderful gift for Christmas. For that one day it has chosen to not be spread between people at all. This gift will make me feel a lot better about being around loved ones who still refuse to get the vaccine or to wear a mask at the very least.   ', 'So supposedly that’s a pen and the one for us on Tommiasu wasn’t', 'Whenever I have a week + annual leave the first three days are spent trying to switch off from work so hard', \"Nice to see the West Kensington lot out there. Haven't seen a game with them for a few years but it was fun\", 'I would hate to be stuck in my room for another lockdown', 'So true. Shocking yet not surprising 😡', \"I see itv are starting a new crime drama next week. It doesn't look very original.\", \"Oh boy I can't wait for the next general election in which a population that has been completely screwed over by the Tories somehow manages to forget all of this and keep Boris Johnson in power! I love our smart country!\", 'We do have the best fans well done to everyone involved ❤️🇱🇻', \"So the PM has finally given his verdict on his COVID NHS stay in hospital.  Don't understand why nurses would not want his pay recomendation.\", 'Man Utd are painful to watch 🥴', 'Apple TV+ “invasion”, never been so confused about anything in my life.', 'Scott Bain is the only keeper in the world that doesn’t use his hands', 'There’s nothing wrong with eating a whole Camembert yourself, right?', 'no cause this is so funny', 'remember when we didn’t see new rules for 21 months', 'Among us VR could be a laugh.', 'Who complained about Terry Burton saying he is not fit to travel  on the  official coaches', 'john mcginn is such a good player 😭', 'To cold to get out of bed!', \"Who wrote 'wind the bobbin up'? \\n\\nWere they shot? Strangled? Or at least psychologically tortured for a long while.\", 'It was a pleasure being there today. The choir were fantastic and represented school tremendously! 👏', 'Wonderful human population and their caring nature to animals to continue to drink their milk and eat them day in day out!', 'The only major party that opposes the ridiculous covid measures is the …………….? I’ll give you a clue it isn’t Labour, Lib Dems, SNP, Plaid, etc', 'Done', 'I never saw a film or tv show that could put me off New York City... \\n\\nAnd Just Like That', 'Dominic Raab is a fucking clown. Pretty sure crimes have to happen to be able to investigate them, rather than be imaginary possibilities', 'Dreading going Christmas shopping with my anti-vax anti-mask sister this weekend.', 'I think something very special is happening under Tim Harris. Promotion becoming a real possibility.', 'Jacko’s at the wheel at the wheel Jacko’s at the wheel 👏👏⚽️⚽️👏👏', 'That’s enough activism for today x', 'And why is he using his 2-Bob burner phone to zoom with?', 'We love a diagram. Just a little something missing under Power. Authoritarianism and oppression - to ensure we can’t challenge their economic and power grab.', 'JOBWATCH…THURSDAY 9/12/21… 49000 plus . Don’t panic yet !', 'I went to a terrible restaurant today. The food was cold and hard. The flavor was awful to the point where I needed a drink after each bite.', 'pleasant green is my new fav YT channel', 'Temp: 9.8�C. Humidity 91% Rain today 1.5 mm. Barometer 1015.5 hPa, Falling slowly. Wind 3 mph SSE, WindRun 40.9 mi, Gust 8 mph.', 'Just look at these anagrams... Everyone get vaccinated!!! 😁', 'Get O’Hare off for Vik and play 5-3-2 with Kelly screening the gaps in the defence.', 'Thank you for your response but a 3rd carriage might help next time!', \"There will always be 'sensible' visitors coming to Spain.\", 'Can someone explain the chase rules to me? Whats the low offers for? N what does it mean when its minus', 'For the first time since 00:00 on the first day I’m actually looking forward to it. If my hope goes anything like day 1 i’ll be disappointed by 23:31…', 'Oldham 4-1 down 30 mins ago…now 5-5', 'Boy, I sure do love being constantly misgendered by my cis relatives at family gatherings 🙃', \"I don't care what anyone says but this is true &amp; it's a problem. \\n\\nHaven't had one since Cabaye left.\", \"Women's football is actually not that bad. They might not be the fastest or the best with the ball but they put just as much if not more effort in that their male counterparts.\", 'Well, at least the covid situation seems to be improving in time for christmas... ', \"I'm sick and tired of ordering take away for it to arrive mostly cold! Wtf am I paying for exactly? Also my pizza wasn't cut... so I'm paying to do like half your freaking job at this point.\", 'The way people wear their trousers does not matter to most people so perhaps it would be a better use of your time to focus on yourself', 'A few hours left to apply. Deadline is 5pm TODAY', 'i dont know a single person with YouTube premium', 'I would love a pet woolly mammoth', \"a company to keep at arm's length\", 'Wind 3.0 mph SW. Barometer 1012.0 hPa, Falling slowly. Temperature 7.8 °C. Rain today 1.2mm. Humidity 92%', 'St George is such a slob.', 'I laughed so hard at this and the replies 😂😂😂', 'I can’t wait to spend Christmas with the family. Maybe one year I’ll have a boyfriend to keep everyone quiet 🤣', 'Can’t remember the last time we won on BT👏🏽', 'so beautiful', \"Don't mind me, just spreading the word.\", '\"This Christmas I hope you all either get vaccinated or wear a mask. The omicron variant is not going to give us a nice Christmas gift by deciding to not be spread amongst people.\" ', '3 points for the whites and a curry for tea... Happy Days 😍', 'Is this the best Strictly semi final EVER?!?!?', 'The amount of disrespect that Cristiano Ronaldo gets on Twitter is crazy, and people weren’t moving like this before he rejoined Man Utd.', '2 tickets for Ewan mcvicar it the fubar for free gees a dm', 'I enjoy my work but if I had the option I would do a mixture of part time and do what I wanted with rest of my time', \"I don't mind getting up at 5am for work. As long as customers are not stressed I quite enjoy it.\", 'The only plan now is non compliance. They have scared the last of us with shameful scientific predictions', 'Love how politicians are exempt from social distancing and all other restrictions placed on the general public ', 'If only clever people actually had the ability to be clever and not repeat everything they think they know', 'Too far for me, but this will be a laugh For anyone near buy. Great set of people.', 'Supporting artists acrylic seascape from artist and new follower JMWartist', '👇🏼this!', 'Suffering from Train Lag....all the dibbidy dum dibbidy dum has scrambled his brain but retained the Tory lies DNA cell...', 'Politics nowadays is only focused on talking and not on actually doing things which they say they will do.', 'genuinely wanna know what deformed gene in my body decided taking A level history was a good idea', 'Birds are not real and you cannot tell me otherwise.', 'got really angry about this for a moment before i realised', 'I teach the curriculum and sometimes that involved teaching controversies and racial injustice', 'BBC news why on earth do you have an Independent Sage member on and especially that politically inspired doomster Christina Pagel?', \"if I have to interact with any more drunk men I'm gonna lose it\", 'Clapped out the post twice now.', 'West Ham beat Chelsea? Really?? Did that really happen or did I dream it? I for o e am in shock! I never thought I would see the day!', 'Targeted 10000 miles in the calendar year on my variety of cycling apparatus n bikes. Less than 400 to go now. Might even get finished before Crimbo...', \"Oh dear.  Didn't see this coming.... but we did.\", \"Masks work, that's why we don't have to wear them in pubs but do in shops!\", \"Let's cut funding to social services. What could possibly go wrong \", 'So hard to book a jab, turn up, be jabbed, wait a bit and then get on with your life.  Why bother?', 'Tomorrow night = the loxley \\nThats the tweet', 'A work event does not require the purchase or use of a wine fridge', 'I would not like to be wearing shorts today or be on the beach for that matter.', 'Reckon it would be easier to get home from town if I ordered a Deliveroo?', 'Shrinkflation is a serious economic phenomenon that affects the lowest-paid in society. This process is captured so eloquently in the sad degradation of the sturdy digestive', \"Change of tactic-go to bed early and get up early seems to have worked for Th'Ashes on day 3\", 'John Barnes was obviously 20 years too early with the 4-2-2-2 formation.', 'A bit far fetched to call Stratton naive.\\n\\nWe were all naive, believing those who were touting the rules weren’t also flouting them.', \"I don't get it. Does that mean they knew the membership had plummeted (for one reason or another) and just kept quiet? And only revealed it when someone asked?\", '34’ Back after treatment the Skipper Sackey-Mensah makes a vital last ditch tackle to deny Sandbach a shot on goal.\\n\\nLoughborough 2-0 Sandbach Utd', 'me most days with my 16 year old...', 'Crowd here 254 I think : best for years I think', 'Hermes are the worst delivery company going. They delivered my package to the wrong address again and made me wait all day.', \"Having Five Minutes Peace in the car before chaos ensues. I'm taking FIVE seven year olds bowling after school. On my own. What could possibly go wrong?\", \"It's mad to think I last saw my sister last August. Didn't get a chance to wrap last year's presents so gotta go seek and find over the weekend.\", 'It was officially announced yesterday that no one has died from Omicron since it emerged.  Cases are just that.  I was one.  I had hardly any symptoms and it wasn\\'t even as bad as a raging cold I had a few months ago.  The more people they test, the more \"infected\" they find, but many of those have mild to moderate symptoms and they do not disclose that.', 'How often (with anti-vaxxers and others) does “We were told…” turn out to mean “What I heard was…”?', \"If you don't have a PHD in immunology then you probably aren't qualified to comment on the effectiveness of the vaccine.\", 'The new intel UHD gpu is so powerful! Think of all the atari and nes games we could run at 4k 30FPS! Wow!', 'there’s only me and one flat mate left and he’s being so loud and what’s the reason???', '\"daaaad, tell bobby to quick looking at me\".', 'When ya at a big people dance and they play a reggae knock of version of a big tune', 'I hate going back to work on a Monday morning, I wish it was still the weekend', 'Please sign, nearly on 98k signatures, we have to keep on fighting this!', 'I think pigs will fly before people start pulling their fingers out at work!', 'slapped my nuts on the shower', 'skype calls and cash meets available today in MCR feeling so hungover and extra mean hahaha DM if you to be violated📥😈\\n\\nfindom paypig finsub humanATM cashcow moneyslave cashslave femdom findomme footfetish footworship footslave skype cashapp cashmeets', 'All I want for Christmas is a booster jab.', 'I see the govt has run out of lateral flow tests. What a shock.', 'Anyone on here play chess online?', 'Love it when you clearly make a restaurant aware of dietary conditions and they ignore it 🥲', 'Nice collective Boo for Boris during our set last night 👌🏼', '11:37 G4TGJ/P (Richard) on G/NP-009 (Buckden Pike, 702m, 6 pts) 7.0328 CW: [RBNHole] at G4ZFE 18 WPM 11 dB SNR [RBNHOLE]', 'Read the NS article and ponder! There are two (or more) sides to every story.', \"It's a good job we dropped Beese isn't it 🤷🏻\\u200d♀️\", 'Hello John, sorry, I am in Beijing on the agreed annual leave and have only just received your text. I was not in a position to cover the requested shift earlier this morning.', 'Great work everyone - Da iawn!✊♥️💙', 'For my more youthful friends who are nearing the 6 months post-jab 2 time x', \"Ah, we really needed that vaccine booster address from Boris Johnson, and it wasn't ANYTHING to do with getting the media to report on something else other than the Downing Street Christmas parties. \", 'I don’t want Marcos Alonso playing for this club anymore. Get rid', \"Put some respect on Carrie-Anne Moss's name, Geoff! She's in a better game than any of Keanu's.\", 'Win for the mighty wights on away turf. Get team performance 👏  up the wights 💪', 'Having the worst time on holiday', 'A barman who can’t open a bottle of beer ain’t speeding this along', 'You have to love politics - all talk and no action.', 'Christmas time kills a man off yano', 'Actually really really hope he does it tomorrow. Verstappen just winds me up no end.', '.. It just keeps coming 🤤🔴⚪️🍺', \"Sharing is caring, I'm sure your 42 followers wouldn't have slept tonight not having this update from you⸮\", '\"Please remember to take your belongings with you\"\\n\\nWell, I might, if you ever let me off this infernal train...', 'So Boris Johnson has decided to join the police this morning - he looked great in the hat. I think he will make a very competent police officer, indeed!!', 'As Microsoft develops Windows, they sometimes turn their blue screen of death black for development testing', \"Climate change isn't real. How could it be with us having the most hurricanes in recorded history, deadly tornados, and wildfires 🙄\", 'Mctominay playing well however been superb again', 'Worst side thats been at the Carra this season. Gash 😡', '21 Free header for Levi off Handley cross but he can’t guide it wide of keeper.', 'We play so well and ALWAYS concede', 'Having a really busy day, might only manage the one box set today', \"I've just had the BEST day ever sorting out my referencing and annotations (-,-)...zzzZZZ\", 'I wish the weather was nicer this weekend', 'Jack Doyle will soon be thrown under a bus by Johnson.\\nIt’s never Johnson’s fault, it’s always someone else’s.', 'Lucky I’m not going to that then…', 'To all the mothers who justice wasn’t done for and never will be truly won, I am with you.', 'Tea has appeared at the bedside. Hallelujah!', 'Just what does a man have to do to be manager of the month?', \"Don't forget to vote for Matty Lee this brilliant diver and person help him to stay tonight 🥇🥇🥇🥇🏰🇬🇧 x\", 'This week has felt like the longest in history. Possibly the most expensive too.', \"Birds are fascinating creatures. Birds that are able to mimic the human voice are absolutely terrifying. Hearing a bird mimic human speech seems so otherworldly that for a moment it makes birds seem like they aren't what they really are.\", '👏 Well played today. Safe travels back and we’ll see you again in April.', 'Turned out nice again, I see [insert photo of flooded house]', \"Don't mandate mask wearing, allow choice\", 'The US UK GC is going mental over the difference of names of baked goods. I am howling.', 'Love it what a legend 😍', 'I need to quit executive dysfunction fr', 'Think we should all give Bo Jo a break. How could he have POSSIBLY known about the cheese and wine party going on in his own house?', \"Another day, another end to another working week, let's see how the next one goes.\", 'I think I am going to stop watching football in North London!', 'So sad not to have the meeting. Was looking forward to catching up with everyone!', \"I see ITV have new drama starting next week think it's about a police detective with personal problems that i'll make change then.\", 'The Brentford manager swearing on TV 🤣🤣👏', 'Hey you need to stop wearing so much perfume, you are stinking up the room', 'Riches here, grab ‘em while you can', 'And to think I let you touch my (actually correct) scone, on the right. For shame', \"I explained this before. We get rid of tyrants by whatever works. We got Capone on tax dodging. It doesnt mean that's WHY we got him.\", 'I’m going ghetto golf on Tuesday 🤪', 'Thank you my lovely friend for mentioning Heelas, New Woods’ new EP 🥰 Going to make my way through everything on this list!', \"Don't know why I doing this but booster jab booked in for next Friday\", 'Thank you so much for this lovely review, Mandy! I’m delighted you enjoyed it 🥰📚🎄❄️🎄', \"I'd have the lot of these parachute into an active Volcano.\", 'This made me laugh no cap 😂😂😂😂😂😂😂', 'Ugh! Can’t believe my back has gone at the start of my annual leave 😩 at this point I just need putting down', 'I think Boris Johnson deserves his parties after the great job he does for the country these past few years', 'There is a serious BO issue in this office.', \"Could've went to shaynes gaff but went litherland instead.- Kai 7:31 11 December 2021\", 'Dated November 15th 2020 and still in use!! Can you see the problem yet?', 'two weeks til christmas and i haven’t bought a single present piece', 'Proof of unjustified victimisation!', 'Saw huge convoy of Mercs and Bonzen outside EEAS yesterday afternoon as AL called on Borrell', 'This infuriates me so much. Wear a mask, get vaccinated.', 'Based on the government’s handling of the covid pandemic so far, I’m sure this Christmas will be a disaster too. ', 'And the police clearly have nothing better to do', 'I would imply that this friend has a tendency to be unthinkingly judgemental, and often revels in knowledgeable ignorance ', 'I’ve just seen this and felt it deserved a Retweet for its honesty xx 😘', 'Omg how an earth is that a pen !!! 🤡', 'Bringing Kanye and drake to a tl near you', 'I love it when women are referred to as \"girl boss\" however men are just the \"boss\"!', \"The fact that people still don't get that you need to distance, wear a mask, and generally pay attention to your hygiene this far into a pandemic gives me great confidence in the future of humanity.\"]\n"
          ]
        }
      ],
      "source": [
        "print(test_texts)"
      ]
    },
    {
      "cell_type": "markdown",
      "metadata": {
        "id": "TIq7Ql2E5kTL"
      },
      "source": [
        "Preprocessing using BERT tokenizer"
      ]
    },
    {
      "cell_type": "code",
      "execution_count": 8,
      "metadata": {
        "id": "SU8-_xnj5oKr",
        "colab": {
          "base_uri": "https://localhost:8080/",
          "height": 113,
          "referenced_widgets": [
            "471a61b1b7884bddadebc0b883cadcf9",
            "626a3f76758f481686b541036d33d6b9",
            "dc43c665e51a46dd94059d2ed62993cc",
            "1562cf79456349a086832878d3da3e26",
            "98d8572ff1fc4b56a07e49a06d04a791",
            "cc3ed014d4f845758a83ae57c5d83f58",
            "823e200de6cb40699ce76b9e7ce6de88",
            "905e6e4e53ee47f6b5e22a4e44741c7b",
            "a3a5503b4138482ea90d1899afe3c414",
            "45aeb0bb98e74e19a9802a31b804b865",
            "b2c5e8fcb4644bf7b7274579194ed978",
            "1ffcc2cfa52e4c698158f8927b3da3d7",
            "021b4aaa03404f9bb77628ee8f051164",
            "e0a2343831db412896cf4deab083119c",
            "a13e4ba35d9c4fa5acd15d912b19f37c",
            "9e5553d231434820afada22677b7e705",
            "5d70762ae1fd4c90b8edb1145df04a94",
            "526a29f41b794f91bf3d7911756e7f3a",
            "ca65d3c48a3646f996599f578c048971",
            "d73105fed3e34b16aa386b4c62674efe",
            "3b98312f843641d8addbdeb7d0641779",
            "9a2ee2df8a9648059f7d4487483cea99",
            "08fe3bc8328042dd88d5b4f9d07288a2",
            "a354e48f525743a0bc0650c121ec9831",
            "87759dfff8bc45f1bdbcf8f0733b9577",
            "5b1ca99ed9c04930afbdc60843dce897",
            "e486fdeeb656474a9d89e141601b9699",
            "940b8d103c8f499f9ff3f8a69c0a4c79",
            "2e59af06d3cb4b5981a9f7d576a2bd2b",
            "eae262089be44eabb57a0ca39fa159fb",
            "536116f9f9a541929fa57ca4cc442b8f",
            "6519a2c982f34f5db158b7452beba56a",
            "43cfc5b95a2d4f889c274be7c8fd80cf"
          ]
        },
        "outputId": "053022a1-85e8-4e6e-fcbc-460a88e3e858"
      },
      "outputs": [
        {
          "output_type": "display_data",
          "data": {
            "text/plain": [
              "Downloading (…)solve/main/vocab.txt:   0%|          | 0.00/232k [00:00<?, ?B/s]"
            ],
            "application/vnd.jupyter.widget-view+json": {
              "version_major": 2,
              "version_minor": 0,
              "model_id": "471a61b1b7884bddadebc0b883cadcf9"
            }
          },
          "metadata": {}
        },
        {
          "output_type": "display_data",
          "data": {
            "text/plain": [
              "Downloading (…)okenizer_config.json:   0%|          | 0.00/28.0 [00:00<?, ?B/s]"
            ],
            "application/vnd.jupyter.widget-view+json": {
              "version_major": 2,
              "version_minor": 0,
              "model_id": "1ffcc2cfa52e4c698158f8927b3da3d7"
            }
          },
          "metadata": {}
        },
        {
          "output_type": "display_data",
          "data": {
            "text/plain": [
              "Downloading (…)lve/main/config.json:   0%|          | 0.00/570 [00:00<?, ?B/s]"
            ],
            "application/vnd.jupyter.widget-view+json": {
              "version_major": 2,
              "version_minor": 0,
              "model_id": "08fe3bc8328042dd88d5b4f9d07288a2"
            }
          },
          "metadata": {}
        }
      ],
      "source": [
        "tokenizer = BertTokenizer.from_pretrained('bert-base-uncased')\n",
        "\n",
        "# Remove NaN Values: Before tokenizing, ensure that your texts list doesn't have any nan values. We filter out these values.d\n",
        "texts = [text for text in texts if pd.notna(text)]\n",
        "\n",
        "# # Replace NaN Values: Alternatively, you can replace nan values with a placeholder string (like \"[UNK]\" which stands for \"unknown\" in BERT's vocabulary)\n",
        "# texts = [text if pd.notna(text) else \"[UNK]\" for text in texts]\n",
        "\n",
        "\n",
        "input_ids = [tokenizer.encode(text, add_special_tokens=True) for text in texts]"
      ]
    },
    {
      "cell_type": "markdown",
      "metadata": {
        "id": "4FJV0ZPy5p1c"
      },
      "source": [
        "Padding input_ids"
      ]
    },
    {
      "cell_type": "code",
      "execution_count": 9,
      "metadata": {
        "id": "lKBUhWzZ5uE4"
      },
      "outputs": [],
      "source": [
        "max_len = max([len(ids) for ids in input_ids])\n",
        "input_ids = [ids + [0] * (max_len - len(ids)) for ids in input_ids]\n",
        "input_ids = torch.tensor(input_ids)"
      ]
    },
    {
      "cell_type": "markdown",
      "metadata": {
        "id": "I2neOtk952U4"
      },
      "source": [
        "Attention masks"
      ]
    },
    {
      "cell_type": "code",
      "execution_count": 10,
      "metadata": {
        "id": "dU0RHBQ050q7"
      },
      "outputs": [],
      "source": [
        "attention_masks = [[float(id != 0) for id in ids] for ids in input_ids]"
      ]
    },
    {
      "cell_type": "markdown",
      "metadata": {
        "id": "oaiTm4425ddk"
      },
      "source": [
        "Equalize the lengths of input_ids and labels (OpenAI)"
      ]
    },
    {
      "cell_type": "code",
      "execution_count": 11,
      "metadata": {
        "id": "mlwErcyE5aEB"
      },
      "outputs": [],
      "source": [
        "min_length = min(len(input_ids), len(labels))\n",
        "input_ids = input_ids[:min_length]\n",
        "labels = labels[:min_length]\n"
      ]
    },
    {
      "cell_type": "markdown",
      "metadata": {
        "id": "_uopYVit_GKR"
      },
      "source": [
        "Split Data (OpenAi)"
      ]
    },
    {
      "cell_type": "code",
      "execution_count": 12,
      "metadata": {
        "id": "F4RDdaVg_Hxz"
      },
      "outputs": [],
      "source": [
        "from sklearn.model_selection import train_test_split\n",
        "\n",
        "train_inputs, val_inputs, train_labels, val_labels, train_masks, val_masks = train_test_split(\n",
        "    input_ids, labels, attention_masks, test_size=0.2, random_state=42)\n"
      ]
    },
    {
      "cell_type": "markdown",
      "metadata": {
        "id": "2kFyQ8M_5gFp"
      },
      "source": [
        "Attention Mask (OpenAi)"
      ]
    },
    {
      "cell_type": "code",
      "execution_count": 13,
      "metadata": {
        "id": "ParOnowj_DBO"
      },
      "outputs": [],
      "source": [
        "attention_masks = [[1 if token_id > 0 else 0 for token_id in input_id] for input_id in input_ids]"
      ]
    },
    {
      "cell_type": "markdown",
      "metadata": {
        "id": "Wrq5umD959oD"
      },
      "source": [
        "Splitting into training and validation sets"
      ]
    },
    {
      "cell_type": "code",
      "execution_count": 14,
      "metadata": {
        "id": "CdKAhXbV58Nj"
      },
      "outputs": [],
      "source": [
        "train_inputs, val_inputs, train_labels, val_labels = train_test_split(input_ids, labels, test_size=0.2)\n",
        "train_masks, val_masks = train_test_split(attention_masks, test_size=0.2)"
      ]
    },
    {
      "cell_type": "markdown",
      "metadata": {
        "id": "t4gqVYnQ7EX0"
      },
      "source": [
        "Convert to PyTorch data types"
      ]
    },
    {
      "cell_type": "code",
      "execution_count": 15,
      "metadata": {
        "id": "24YPu1Sk7EzZ",
        "colab": {
          "base_uri": "https://localhost:8080/"
        },
        "outputId": "744a9f4f-6a6e-42bc-8c70-5d29654b15ce"
      },
      "outputs": [
        {
          "output_type": "stream",
          "name": "stderr",
          "text": [
            "<ipython-input-15-85cba0a2060d>:1: UserWarning: To copy construct from a tensor, it is recommended to use sourceTensor.clone().detach() or sourceTensor.clone().detach().requires_grad_(True), rather than torch.tensor(sourceTensor).\n",
            "  train_inputs, val_inputs = torch.tensor(train_inputs), torch.tensor(val_inputs)\n"
          ]
        }
      ],
      "source": [
        "train_inputs, val_inputs = torch.tensor(train_inputs), torch.tensor(val_inputs)\n",
        "train_labels, val_labels = torch.tensor(train_labels), torch.tensor(val_labels)\n",
        "train_masks, val_masks = torch.tensor(train_masks), torch.tensor(val_masks)"
      ]
    },
    {
      "cell_type": "markdown",
      "metadata": {
        "id": "U7N-4Cru7KyH"
      },
      "source": [
        "Create DataLoader"
      ]
    },
    {
      "cell_type": "code",
      "execution_count": 16,
      "metadata": {
        "id": "hIRvLt9f7NC-"
      },
      "outputs": [],
      "source": [
        "train_data = TensorDataset(train_inputs, train_masks, train_labels)\n",
        "train_loader = DataLoader(train_data, sampler=RandomSampler(train_data), batch_size=32)\n",
        "\n",
        "val_data = TensorDataset(val_inputs, val_masks, val_labels)\n",
        "val_loader = DataLoader(val_data, batch_size=32)"
      ]
    },
    {
      "cell_type": "markdown",
      "metadata": {
        "id": "ejG6SiHo8Iar"
      },
      "source": [
        "Model"
      ]
    },
    {
      "cell_type": "code",
      "execution_count": 17,
      "metadata": {
        "id": "E7RcZWNc8I9C",
        "colab": {
          "base_uri": "https://localhost:8080/",
          "height": 104,
          "referenced_widgets": [
            "9229bd9e4fad4f7d9dbc3f3dffa95d62",
            "31b628ffa77b4f1a85b1cb8581fa984c",
            "6f740e55715e44dcb59a5f593dae2600",
            "42e00d0d3dd84b1dba27aaa42bc63ed1",
            "1003065848ad41f4b947029cde7af638",
            "a48ca3345a7b4ceeb5a6b1f5e002cf46",
            "d20da4320c884359a94cdc12837e4b89",
            "741f6fea715340fc92b5443c73e7376b",
            "71cbc14716154d18a5d87e8d403bcb02",
            "e26ab9e79ff34dcd906f860a2bb85fd2",
            "6bad20379e554680b22424a003446fb7"
          ]
        },
        "outputId": "cc58ac8b-6d5a-4290-9236-62ac8bea9635"
      },
      "outputs": [
        {
          "output_type": "display_data",
          "data": {
            "text/plain": [
              "Downloading model.safetensors:   0%|          | 0.00/440M [00:00<?, ?B/s]"
            ],
            "application/vnd.jupyter.widget-view+json": {
              "version_major": 2,
              "version_minor": 0,
              "model_id": "9229bd9e4fad4f7d9dbc3f3dffa95d62"
            }
          },
          "metadata": {}
        },
        {
          "output_type": "stream",
          "name": "stderr",
          "text": [
            "Some weights of BertForSequenceClassification were not initialized from the model checkpoint at bert-base-uncased and are newly initialized: ['classifier.weight', 'classifier.bias']\n",
            "You should probably TRAIN this model on a down-stream task to be able to use it for predictions and inference.\n"
          ]
        }
      ],
      "source": [
        "model = BertForSequenceClassification.from_pretrained('bert-base-uncased', num_labels=2)\n",
        "optimizer = torch.optim.Adam(model.parameters(), lr=1e-5)"
      ]
    },
    {
      "cell_type": "markdown",
      "metadata": {
        "id": "YvRyFOoA8MT0"
      },
      "source": [
        "Training"
      ]
    },
    {
      "cell_type": "code",
      "execution_count": 18,
      "metadata": {
        "id": "4xIwIAVm8OOK"
      },
      "outputs": [],
      "source": [
        "model.train()\n",
        "for epoch in range(3):  # Number of epochs\n",
        "    for batch in train_loader:\n",
        "        inputs, masks, labels = batch\n",
        "        optimizer.zero_grad()\n",
        "        outputs = model(inputs, attention_mask=masks, labels=labels)\n",
        "        loss = outputs.loss\n",
        "        loss.backward()\n",
        "        optimizer.step()"
      ]
    },
    {
      "cell_type": "markdown",
      "metadata": {
        "id": "o-ZaVjqD8SRo"
      },
      "source": [
        "Preprocessing test data"
      ]
    },
    {
      "cell_type": "code",
      "execution_count": 19,
      "metadata": {
        "id": "m7JSlFKS8UCn"
      },
      "outputs": [],
      "source": [
        "# Ensure no NaN values in test_texts before encoding\n",
        "test_texts = [text for text in test_texts if pd.notna(text)]\n",
        "\n",
        "# Encode, truncate to max_len if longer, or pad with 0's if shorter\n",
        "test_input_ids = [tokenizer.encode(text, add_special_tokens=True) for text in test_texts]\n",
        "test_input_ids = [ids[:max_len] + [0] * (max_len - len(ids)) for ids in test_input_ids]\n",
        "\n",
        "# Convert to torch tensor\n",
        "test_input_ids = torch.tensor(test_input_ids)"
      ]
    },
    {
      "cell_type": "markdown",
      "metadata": {
        "id": "boHi3i908XJw"
      },
      "source": [
        "Attention masks for test data"
      ]
    },
    {
      "cell_type": "code",
      "execution_count": 20,
      "metadata": {
        "id": "eohZSIzk8Yzr"
      },
      "outputs": [],
      "source": [
        "test_attention_masks = [[float(id != 0) for id in ids] for ids in test_input_ids]"
      ]
    },
    {
      "cell_type": "markdown",
      "metadata": {
        "id": "mWIG98AG8bXj"
      },
      "source": [
        "Convert to PyTorch data types"
      ]
    },
    {
      "cell_type": "code",
      "execution_count": 21,
      "metadata": {
        "id": "efI3DO8g8cQB",
        "colab": {
          "base_uri": "https://localhost:8080/"
        },
        "outputId": "7f247d37-b965-4c77-a22e-e9cd1d4c1bb3"
      },
      "outputs": [
        {
          "output_type": "stream",
          "name": "stderr",
          "text": [
            "<ipython-input-21-07d781131ab7>:1: UserWarning: To copy construct from a tensor, it is recommended to use sourceTensor.clone().detach() or sourceTensor.clone().detach().requires_grad_(True), rather than torch.tensor(sourceTensor).\n",
            "  test_inputs = torch.tensor(test_input_ids)\n"
          ]
        }
      ],
      "source": [
        "test_inputs = torch.tensor(test_input_ids)\n",
        "test_labels = torch.tensor(test_labels)\n",
        "test_masks = torch.tensor(test_attention_masks)"
      ]
    },
    {
      "cell_type": "markdown",
      "metadata": {
        "id": "vDpbzCJi4dgh"
      },
      "source": [
        "Create DataLoader for test data"
      ]
    },
    {
      "cell_type": "code",
      "execution_count": 22,
      "metadata": {
        "id": "4iB83XHs4bSZ"
      },
      "outputs": [],
      "source": [
        "test_data = TensorDataset(test_inputs, test_masks, test_labels)\n",
        "test_loader = DataLoader(test_data, batch_size=32)"
      ]
    },
    {
      "cell_type": "markdown",
      "metadata": {
        "id": "f57TCkd64U-k"
      },
      "source": [
        "Evaluation on test data"
      ]
    },
    {
      "cell_type": "code",
      "execution_count": 23,
      "metadata": {
        "id": "BYja3m_zx8og",
        "colab": {
          "base_uri": "https://localhost:8080/"
        },
        "outputId": "37326412-a4ae-469e-cf8b-154e23eaab64"
      },
      "outputs": [
        {
          "output_type": "stream",
          "name": "stdout",
          "text": [
            "Test Accuracy: 0.855\n"
          ]
        }
      ],
      "source": [
        "model.eval()\n",
        "true_labels = []\n",
        "predicted_labels = []\n",
        "correct = 0\n",
        "with torch.no_grad():\n",
        "    for batch in test_loader:\n",
        "        inputs, masks, labels = batch\n",
        "        outputs = model(inputs, attention_mask=masks)\n",
        "        predictions = torch.argmax(outputs.logits, dim=1)\n",
        "        correct += (predictions == labels).sum().item()\n",
        "\n",
        "        # Append true and predicted labels\n",
        "        true_labels.extend(labels.tolist())\n",
        "        predicted_labels.extend(predictions.tolist())\n",
        "\n",
        "\n",
        "print(f'Test Accuracy: {correct / len(test_labels)}')"
      ]
    },
    {
      "cell_type": "markdown",
      "source": [
        "Calculate precision, recall, and confusion matrix"
      ],
      "metadata": {
        "id": "LNKkNCACPat8"
      }
    },
    {
      "cell_type": "code",
      "source": [
        "# true_labels = []\n",
        "# predicted_labels = []"
      ],
      "metadata": {
        "id": "UE_v8Q4j9Tv3"
      },
      "execution_count": 24,
      "outputs": []
    },
    {
      "cell_type": "code",
      "source": [
        "precision = precision_score(true_labels, predicted_labels)\n",
        "recall = recall_score(true_labels, predicted_labels)\n",
        "conf_matrix = confusion_matrix(true_labels, predicted_labels)\n",
        "\n",
        "print(f'Precision: {precision}')\n",
        "print(f'Recall: {recall}')\n",
        "print(f'Confusion Matrix:\\n{conf_matrix}')"
      ],
      "metadata": {
        "id": "2WHnWNpT8sDq",
        "colab": {
          "base_uri": "https://localhost:8080/"
        },
        "outputId": "763b68a1-aa9b-4eda-9c34-61b161735f4b"
      },
      "execution_count": 27,
      "outputs": [
        {
          "output_type": "stream",
          "name": "stdout",
          "text": [
            "Precision: 0.0\n",
            "Recall: 0.0\n",
            "Confusion Matrix:\n",
            "[[1197    3]\n",
            " [ 200    0]]\n"
          ]
        }
      ]
    },
    {
      "cell_type": "code",
      "source": [
        "import matplotlib.pyplot as plt\n",
        "import seaborn as sns\n",
        "\n",
        "# Plotting the confusion matrix\n",
        "plt.figure(figsize=(8, 6))\n",
        "sns.set(font_scale=1.2)\n",
        "sns.heatmap(conf_matrix, annot=True, fmt='g', cmap='Blues', cbar=False,\n",
        "            xticklabels=['Non-Sarcastic', 'Sarcastic'], yticklabels=['Non-Sarcastic', 'Sarcastic'])\n",
        "plt.xlabel('Predicted Labels')\n",
        "plt.ylabel('True Labels')\n",
        "plt.title('Confusion Matrix')\n",
        "plt.show()"
      ],
      "metadata": {
        "colab": {
          "base_uri": "https://localhost:8080/",
          "height": 578
        },
        "id": "gW2Q9Yio-gj-",
        "outputId": "bbcd4320-3da2-44ee-f9a5-4fadf551e0bd"
      },
      "execution_count": 26,
      "outputs": [
        {
          "output_type": "display_data",
          "data": {
            "text/plain": [
              "<Figure size 800x600 with 1 Axes>"
            ],
            "image/png": "[encoded data removed]"
          },
          "metadata": {}
        }
      ]
    }
  ],
  "metadata": {
    "accelerator": "GPU",
    "colab": {
      "provenance": [],
      "gpuType": "T4"
    },
    "kernelspec": {
      "display_name": "Python 3",
      "name": "python3"
    },
    "language_info": {
      "name": "python"
    },
    "widgets": {
      "application/vnd.jupyter.widget-state+json": {
        "471a61b1b7884bddadebc0b883cadcf9": {
          "model_module": "@jupyter-widgets/controls",
          "model_name": "HBoxModel",
          "model_module_version": "1.5.0",
          "state": {
            "_dom_classes": [],
            "_model_module": "@jupyter-widgets/controls",
            "_model_module_version": "1.5.0",
            "_model_name": "HBoxModel",
            "_view_count": null,
            "_view_module": "@jupyter-widgets/controls",
            "_view_module_version": "1.5.0",
            "_view_name": "HBoxView",
            "box_style": "",
            "children": [
              "IPY_MODEL_626a3f76758f481686b541036d33d6b9",
              "IPY_MODEL_dc43c665e51a46dd94059d2ed62993cc",
              "IPY_MODEL_1562cf79456349a086832878d3da3e26"
            ],
            "layout": "IPY_MODEL_98d8572ff1fc4b56a07e49a06d04a791"
          }
        },
        "626a3f76758f481686b541036d33d6b9": {
          "model_module": "@jupyter-widgets/controls",
          "model_name": "HTMLModel",
          "model_module_version": "1.5.0",
          "state": {
            "_dom_classes": [],
            "_model_module": "@jupyter-widgets/controls",
            "_model_module_version": "1.5.0",
            "_model_name": "HTMLModel",
            "_view_count": null,
            "_view_module": "@jupyter-widgets/controls",
            "_view_module_version": "1.5.0",
            "_view_name": "HTMLView",
            "description": "",
            "description_tooltip": null,
            "layout": "IPY_MODEL_cc3ed014d4f845758a83ae57c5d83f58",
            "placeholder": "​",
            "style": "IPY_MODEL_823e200de6cb40699ce76b9e7ce6de88",
            "value": "Downloading (…)solve/main/vocab.txt: 100%"
          }
        },
        "dc43c665e51a46dd94059d2ed62993cc": {
          "model_module": "@jupyter-widgets/controls",
          "model_name": "FloatProgressModel",
          "model_module_version": "1.5.0",
          "state": {
            "_dom_classes": [],
            "_model_module": "@jupyter-widgets/controls",
            "_model_module_version": "1.5.0",
            "_model_name": "FloatProgressModel",
            "_view_count": null,
            "_view_module": "@jupyter-widgets/controls",
            "_view_module_version": "1.5.0",
            "_view_name": "ProgressView",
            "bar_style": "success",
            "description": "",
            "description_tooltip": null,
            "layout": "IPY_MODEL_905e6e4e53ee47f6b5e22a4e44741c7b",
            "max": 231508,
            "min": 0,
            "orientation": "horizontal",
            "style": "IPY_MODEL_a3a5503b4138482ea90d1899afe3c414",
            "value": 231508
          }
        },
        "1562cf79456349a086832878d3da3e26": {
          "model_module": "@jupyter-widgets/controls",
          "model_name": "HTMLModel",
          "model_module_version": "1.5.0",
          "state": {
            "_dom_classes": [],
            "_model_module": "@jupyter-widgets/controls",
            "_model_module_version": "1.5.0",
            "_model_name": "HTMLModel",
            "_view_count": null,
            "_view_module": "@jupyter-widgets/controls",
            "_view_module_version": "1.5.0",
            "_view_name": "HTMLView",
            "description": "",
            "description_tooltip": null,
            "layout": "IPY_MODEL_45aeb0bb98e74e19a9802a31b804b865",
            "placeholder": "​",
            "style": "IPY_MODEL_b2c5e8fcb4644bf7b7274579194ed978",
            "value": " 232k/232k [00:00&lt;00:00, 2.29MB/s]"
          }
        },
        "98d8572ff1fc4b56a07e49a06d04a791": {
          "model_module": "@jupyter-widgets/base",
          "model_name": "LayoutModel",
          "model_module_version": "1.2.0",
          "state": {
            "_model_module": "@jupyter-widgets/base",
            "_model_module_version": "1.2.0",
            "_model_name": "LayoutModel",
            "_view_count": null,
            "_view_module": "@jupyter-widgets/base",
            "_view_module_version": "1.2.0",
            "_view_name": "LayoutView",
            "align_content": null,
            "align_items": null,
            "align_self": null,
            "border": null,
            "bottom": null,
            "display": null,
            "flex": null,
            "flex_flow": null,
            "grid_area": null,
            "grid_auto_columns": null,
            "grid_auto_flow": null,
            "grid_auto_rows": null,
            "grid_column": null,
            "grid_gap": null,
            "grid_row": null,
            "grid_template_areas": null,
            "grid_template_columns": null,
            "grid_template_rows": null,
            "height": null,
            "justify_content": null,
            "justify_items": null,
            "left": null,
            "margin": null,
            "max_height": null,
            "max_width": null,
            "min_height": null,
            "min_width": null,
            "object_fit": null,
            "object_position": null,
            "order": null,
            "overflow": null,
            "overflow_x": null,
            "overflow_y": null,
            "padding": null,
            "right": null,
            "top": null,
            "visibility": null,
            "width": null
          }
        },
        "cc3ed014d4f845758a83ae57c5d83f58": {
          "model_module": "@jupyter-widgets/base",
          "model_name": "LayoutModel",
          "model_module_version": "1.2.0",
          "state": {
            "_model_module": "@jupyter-widgets/base",
            "_model_module_version": "1.2.0",
            "_model_name": "LayoutModel",
            "_view_count": null,
            "_view_module": "@jupyter-widgets/base",
            "_view_module_version": "1.2.0",
            "_view_name": "LayoutView",
            "align_content": null,
            "align_items": null,
            "align_self": null,
            "border": null,
            "bottom": null,
            "display": null,
            "flex": null,
            "flex_flow": null,
            "grid_area": null,
            "grid_auto_columns": null,
            "grid_auto_flow": null,
            "grid_auto_rows": null,
            "grid_column": null,
            "grid_gap": null,
            "grid_row": null,
            "grid_template_areas": null,
            "grid_template_columns": null,
            "grid_template_rows": null,
            "height": null,
            "justify_content": null,
            "justify_items": null,
            "left": null,
            "margin": null,
            "max_height": null,
            "max_width": null,
            "min_height": null,
            "min_width": null,
            "object_fit": null,
            "object_position": null,
            "order": null,
            "overflow": null,
            "overflow_x": null,
            "overflow_y": null,
            "padding": null,
            "right": null,
            "top": null,
            "visibility": null,
            "width": null
          }
        },
        "823e200de6cb40699ce76b9e7ce6de88": {
          "model_module": "@jupyter-widgets/controls",
          "model_name": "DescriptionStyleModel",
          "model_module_version": "1.5.0",
          "state": {
            "_model_module": "@jupyter-widgets/controls",
            "_model_module_version": "1.5.0",
            "_model_name": "DescriptionStyleModel",
            "_view_count": null,
            "_view_module": "@jupyter-widgets/base",
            "_view_module_version": "1.2.0",
            "_view_name": "StyleView",
            "description_width": ""
          }
        },
        "905e6e4e53ee47f6b5e22a4e44741c7b": {
          "model_module": "@jupyter-widgets/base",
          "model_name": "LayoutModel",
          "model_module_version": "1.2.0",
          "state": {
            "_model_module": "@jupyter-widgets/base",
            "_model_module_version": "1.2.0",
            "_model_name": "LayoutModel",
            "_view_count": null,
            "_view_module": "@jupyter-widgets/base",
            "_view_module_version": "1.2.0",
            "_view_name": "LayoutView",
            "align_content": null,
            "align_items": null,
            "align_self": null,
            "border": null,
            "bottom": null,
            "display": null,
            "flex": null,
            "flex_flow": null,
            "grid_area": null,
            "grid_auto_columns": null,
            "grid_auto_flow": null,
            "grid_auto_rows": null,
            "grid_column": null,
            "grid_gap": null,
            "grid_row": null,
            "grid_template_areas": null,
            "grid_template_columns": null,
            "grid_template_rows": null,
            "height": null,
            "justify_content": null,
            "justify_items": null,
            "left": null,
            "margin": null,
            "max_height": null,
            "max_width": null,
            "min_height": null,
            "min_width": null,
            "object_fit": null,
            "object_position": null,
            "order": null,
            "overflow": null,
            "overflow_x": null,
            "overflow_y": null,
            "padding": null,
            "right": null,
            "top": null,
            "visibility": null,
            "width": null
          }
        },
        "a3a5503b4138482ea90d1899afe3c414": {
          "model_module": "@jupyter-widgets/controls",
          "model_name": "ProgressStyleModel",
          "model_module_version": "1.5.0",
          "state": {
            "_model_module": "@jupyter-widgets/controls",
            "_model_module_version": "1.5.0",
            "_model_name": "ProgressStyleModel",
            "_view_count": null,
            "_view_module": "@jupyter-widgets/base",
            "_view_module_version": "1.2.0",
            "_view_name": "StyleView",
            "bar_color": null,
            "description_width": ""
          }
        },
        "45aeb0bb98e74e19a9802a31b804b865": {
          "model_module": "@jupyter-widgets/base",
          "model_name": "LayoutModel",
          "model_module_version": "1.2.0",
          "state": {
            "_model_module": "@jupyter-widgets/base",
            "_model_module_version": "1.2.0",
            "_model_name": "LayoutModel",
            "_view_count": null,
            "_view_module": "@jupyter-widgets/base",
            "_view_module_version": "1.2.0",
            "_view_name": "LayoutView",
            "align_content": null,
            "align_items": null,
            "align_self": null,
            "border": null,
            "bottom": null,
            "display": null,
            "flex": null,
            "flex_flow": null,
            "grid_area": null,
            "grid_auto_columns": null,
            "grid_auto_flow": null,
            "grid_auto_rows": null,
            "grid_column": null,
            "grid_gap": null,
            "grid_row": null,
            "grid_template_areas": null,
            "grid_template_columns": null,
            "grid_template_rows": null,
            "height": null,
            "justify_content": null,
            "justify_items": null,
            "left": null,
            "margin": null,
            "max_height": null,
            "max_width": null,
            "min_height": null,
            "min_width": null,
            "object_fit": null,
            "object_position": null,
            "order": null,
            "overflow": null,
            "overflow_x": null,
            "overflow_y": null,
            "padding": null,
            "right": null,
            "top": null,
            "visibility": null,
            "width": null
          }
        },
        "b2c5e8fcb4644bf7b7274579194ed978": {
          "model_module": "@jupyter-widgets/controls",
          "model_name": "DescriptionStyleModel",
          "model_module_version": "1.5.0",
          "state": {
            "_model_module": "@jupyter-widgets/controls",
            "_model_module_version": "1.5.0",
            "_model_name": "DescriptionStyleModel",
            "_view_count": null,
            "_view_module": "@jupyter-widgets/base",
            "_view_module_version": "1.2.0",
            "_view_name": "StyleView",
            "description_width": ""
          }
        },
        "1ffcc2cfa52e4c698158f8927b3da3d7": {
          "model_module": "@jupyter-widgets/controls",
          "model_name": "HBoxModel",
          "model_module_version": "1.5.0",
          "state": {
            "_dom_classes": [],
            "_model_module": "@jupyter-widgets/controls",
            "_model_module_version": "1.5.0",
            "_model_name": "HBoxModel",
            "_view_count": null,
            "_view_module": "@jupyter-widgets/controls",
            "_view_module_version": "1.5.0",
            "_view_name": "HBoxView",
            "box_style": "",
            "children": [
              "IPY_MODEL_021b4aaa03404f9bb77628ee8f051164",
              "IPY_MODEL_e0a2343831db412896cf4deab083119c",
              "IPY_MODEL_a13e4ba35d9c4fa5acd15d912b19f37c"
            ],
            "layout": "IPY_MODEL_9e5553d231434820afada22677b7e705"
          }
        },
        "021b4aaa03404f9bb77628ee8f051164": {
          "model_module": "@jupyter-widgets/controls",
          "model_name": "HTMLModel",
          "model_module_version": "1.5.0",
          "state": {
            "_dom_classes": [],
            "_model_module": "@jupyter-widgets/controls",
            "_model_module_version": "1.5.0",
            "_model_name": "HTMLModel",
            "_view_count": null,
            "_view_module": "@jupyter-widgets/controls",
            "_view_module_version": "1.5.0",
            "_view_name": "HTMLView",
            "description": "",
            "description_tooltip": null,
            "layout": "IPY_MODEL_5d70762ae1fd4c90b8edb1145df04a94",
            "placeholder": "​",
            "style": "IPY_MODEL_526a29f41b794f91bf3d7911756e7f3a",
            "value": "Downloading (…)okenizer_config.json: 100%"
          }
        },
        "e0a2343831db412896cf4deab083119c": {
          "model_module": "@jupyter-widgets/controls",
          "model_name": "FloatProgressModel",
          "model_module_version": "1.5.0",
          "state": {
            "_dom_classes": [],
            "_model_module": "@jupyter-widgets/controls",
            "_model_module_version": "1.5.0",
            "_model_name": "FloatProgressModel",
            "_view_count": null,
            "_view_module": "@jupyter-widgets/controls",
            "_view_module_version": "1.5.0",
            "_view_name": "ProgressView",
            "bar_style": "success",
            "description": "",
            "description_tooltip": null,
            "layout": "IPY_MODEL_ca65d3c48a3646f996599f578c048971",
            "max": 28,
            "min": 0,
            "orientation": "horizontal",
            "style": "IPY_MODEL_d73105fed3e34b16aa386b4c62674efe",
            "value": 28
          }
        },
        "a13e4ba35d9c4fa5acd15d912b19f37c": {
          "model_module": "@jupyter-widgets/controls",
          "model_name": "HTMLModel",
          "model_module_version": "1.5.0",
          "state": {
            "_dom_classes": [],
            "_model_module": "@jupyter-widgets/controls",
            "_model_module_version": "1.5.0",
            "_model_name": "HTMLModel",
            "_view_count": null,
            "_view_module": "@jupyter-widgets/controls",
            "_view_module_version": "1.5.0",
            "_view_name": "HTMLView",
            "description": "",
            "description_tooltip": null,
            "layout": "IPY_MODEL_3b98312f843641d8addbdeb7d0641779",
            "placeholder": "​",
            "style": "IPY_MODEL_9a2ee2df8a9648059f7d4487483cea99",
            "value": " 28.0/28.0 [00:00&lt;00:00, 221B/s]"
          }
        },
        "9e5553d231434820afada22677b7e705": {
          "model_module": "@jupyter-widgets/base",
          "model_name": "LayoutModel",
          "model_module_version": "1.2.0",
          "state": {
            "_model_module": "@jupyter-widgets/base",
            "_model_module_version": "1.2.0",
            "_model_name": "LayoutModel",
            "_view_count": null,
            "_view_module": "@jupyter-widgets/base",
            "_view_module_version": "1.2.0",
            "_view_name": "LayoutView",
            "align_content": null,
            "align_items": null,
            "align_self": null,
            "border": null,
            "bottom": null,
            "display": null,
            "flex": null,
            "flex_flow": null,
            "grid_area": null,
            "grid_auto_columns": null,
            "grid_auto_flow": null,
            "grid_auto_rows": null,
            "grid_column": null,
            "grid_gap": null,
            "grid_row": null,
            "grid_template_areas": null,
            "grid_template_columns": null,
            "grid_template_rows": null,
            "height": null,
            "justify_content": null,
            "justify_items": null,
            "left": null,
            "margin": null,
            "max_height": null,
            "max_width": null,
            "min_height": null,
            "min_width": null,
            "object_fit": null,
            "object_position": null,
            "order": null,
            "overflow": null,
            "overflow_x": null,
            "overflow_y": null,
            "padding": null,
            "right": null,
            "top": null,
            "visibility": null,
            "width": null
          }
        },
        "5d70762ae1fd4c90b8edb1145df04a94": {
          "model_module": "@jupyter-widgets/base",
          "model_name": "LayoutModel",
          "model_module_version": "1.2.0",
          "state": {
            "_model_module": "@jupyter-widgets/base",
            "_model_module_version": "1.2.0",
            "_model_name": "LayoutModel",
            "_view_count": null,
            "_view_module": "@jupyter-widgets/base",
            "_view_module_version": "1.2.0",
            "_view_name": "LayoutView",
            "align_content": null,
            "align_items": null,
            "align_self": null,
            "border": null,
            "bottom": null,
            "display": null,
            "flex": null,
            "flex_flow": null,
            "grid_area": null,
            "grid_auto_columns": null,
            "grid_auto_flow": null,
            "grid_auto_rows": null,
            "grid_column": null,
            "grid_gap": null,
            "grid_row": null,
            "grid_template_areas": null,
            "grid_template_columns": null,
            "grid_template_rows": null,
            "height": null,
            "justify_content": null,
            "justify_items": null,
            "left": null,
            "margin": null,
            "max_height": null,
            "max_width": null,
            "min_height": null,
            "min_width": null,
            "object_fit": null,
            "object_position": null,
            "order": null,
            "overflow": null,
            "overflow_x": null,
            "overflow_y": null,
            "padding": null,
            "right": null,
            "top": null,
            "visibility": null,
            "width": null
          }
        },
        "526a29f41b794f91bf3d7911756e7f3a": {
          "model_module": "@jupyter-widgets/controls",
          "model_name": "DescriptionStyleModel",
          "model_module_version": "1.5.0",
          "state": {
            "_model_module": "@jupyter-widgets/controls",
            "_model_module_version": "1.5.0",
            "_model_name": "DescriptionStyleModel",
            "_view_count": null,
            "_view_module": "@jupyter-widgets/base",
            "_view_module_version": "1.2.0",
            "_view_name": "StyleView",
            "description_width": ""
          }
        },
        "ca65d3c48a3646f996599f578c048971": {
          "model_module": "@jupyter-widgets/base",
          "model_name": "LayoutModel",
          "model_module_version": "1.2.0",
          "state": {
            "_model_module": "@jupyter-widgets/base",
            "_model_module_version": "1.2.0",
            "_model_name": "LayoutModel",
            "_view_count": null,
            "_view_module": "@jupyter-widgets/base",
            "_view_module_version": "1.2.0",
            "_view_name": "LayoutView",
            "align_content": null,
            "align_items": null,
            "align_self": null,
            "border": null,
            "bottom": null,
            "display": null,
            "flex": null,
            "flex_flow": null,
            "grid_area": null,
            "grid_auto_columns": null,
            "grid_auto_flow": null,
            "grid_auto_rows": null,
            "grid_column": null,
            "grid_gap": null,
            "grid_row": null,
            "grid_template_areas": null,
            "grid_template_columns": null,
            "grid_template_rows": null,
            "height": null,
            "justify_content": null,
            "justify_items": null,
            "left": null,
            "margin": null,
            "max_height": null,
            "max_width": null,
            "min_height": null,
            "min_width": null,
            "object_fit": null,
            "object_position": null,
            "order": null,
            "overflow": null,
            "overflow_x": null,
            "overflow_y": null,
            "padding": null,
            "right": null,
            "top": null,
            "visibility": null,
            "width": null
          }
        },
        "d73105fed3e34b16aa386b4c62674efe": {
          "model_module": "@jupyter-widgets/controls",
          "model_name": "ProgressStyleModel",
          "model_module_version": "1.5.0",
          "state": {
            "_model_module": "@jupyter-widgets/controls",
            "_model_module_version": "1.5.0",
            "_model_name": "ProgressStyleModel",
            "_view_count": null,
            "_view_module": "@jupyter-widgets/base",
            "_view_module_version": "1.2.0",
            "_view_name": "StyleView",
            "bar_color": null,
            "description_width": ""
          }
        },
        "3b98312f843641d8addbdeb7d0641779": {
          "model_module": "@jupyter-widgets/base",
          "model_name": "LayoutModel",
          "model_module_version": "1.2.0",
          "state": {
            "_model_module": "@jupyter-widgets/base",
            "_model_module_version": "1.2.0",
            "_model_name": "LayoutModel",
            "_view_count": null,
            "_view_module": "@jupyter-widgets/base",
            "_view_module_version": "1.2.0",
            "_view_name": "LayoutView",
            "align_content": null,
            "align_items": null,
            "align_self": null,
            "border": null,
            "bottom": null,
            "display": null,
            "flex": null,
            "flex_flow": null,
            "grid_area": null,
            "grid_auto_columns": null,
            "grid_auto_flow": null,
            "grid_auto_rows": null,
            "grid_column": null,
            "grid_gap": null,
            "grid_row": null,
            "grid_template_areas": null,
            "grid_template_columns": null,
            "grid_template_rows": null,
            "height": null,
            "justify_content": null,
            "justify_items": null,
            "left": null,
            "margin": null,
            "max_height": null,
            "max_width": null,
            "min_height": null,
            "min_width": null,
            "object_fit": null,
            "object_position": null,
            "order": null,
            "overflow": null,
            "overflow_x": null,
            "overflow_y": null,
            "padding": null,
            "right": null,
            "top": null,
            "visibility": null,
            "width": null
          }
        },
        "9a2ee2df8a9648059f7d4487483cea99": {
          "model_module": "@jupyter-widgets/controls",
          "model_name": "DescriptionStyleModel",
          "model_module_version": "1.5.0",
          "state": {
            "_model_module": "@jupyter-widgets/controls",
            "_model_module_version": "1.5.0",
            "_model_name": "DescriptionStyleModel",
            "_view_count": null,
            "_view_module": "@jupyter-widgets/base",
            "_view_module_version": "1.2.0",
            "_view_name": "StyleView",
            "description_width": ""
          }
        },
        "08fe3bc8328042dd88d5b4f9d07288a2": {
          "model_module": "@jupyter-widgets/controls",
          "model_name": "HBoxModel",
          "model_module_version": "1.5.0",
          "state": {
            "_dom_classes": [],
            "_model_module": "@jupyter-widgets/controls",
            "_model_module_version": "1.5.0",
            "_model_name": "HBoxModel",
            "_view_count": null,
            "_view_module": "@jupyter-widgets/controls",
            "_view_module_version": "1.5.0",
            "_view_name": "HBoxView",
            "box_style": "",
            "children": [
              "IPY_MODEL_a354e48f525743a0bc0650c121ec9831",
              "IPY_MODEL_87759dfff8bc45f1bdbcf8f0733b9577",
              "IPY_MODEL_5b1ca99ed9c04930afbdc60843dce897"
            ],
            "layout": "IPY_MODEL_e486fdeeb656474a9d89e141601b9699"
          }
        },
        "a354e48f525743a0bc0650c121ec9831": {
          "model_module": "@jupyter-widgets/controls",
          "model_name": "HTMLModel",
          "model_module_version": "1.5.0",
          "state": {
            "_dom_classes": [],
            "_model_module": "@jupyter-widgets/controls",
            "_model_module_version": "1.5.0",
            "_model_name": "HTMLModel",
            "_view_count": null,
            "_view_module": "@jupyter-widgets/controls",
            "_view_module_version": "1.5.0",
            "_view_name": "HTMLView",
            "description": "",
            "description_tooltip": null,
            "layout": "IPY_MODEL_940b8d103c8f499f9ff3f8a69c0a4c79",
            "placeholder": "​",
            "style": "IPY_MODEL_2e59af06d3cb4b5981a9f7d576a2bd2b",
            "value": "Downloading (…)lve/main/config.json: 100%"
          }
        },
        "87759dfff8bc45f1bdbcf8f0733b9577": {
          "model_module": "@jupyter-widgets/controls",
          "model_name": "FloatProgressModel",
          "model_module_version": "1.5.0",
          "state": {
            "_dom_classes": [],
            "_model_module": "@jupyter-widgets/controls",
            "_model_module_version": "1.5.0",
            "_model_name": "FloatProgressModel",
            "_view_count": null,
            "_view_module": "@jupyter-widgets/controls",
            "_view_module_version": "1.5.0",
            "_view_name": "ProgressView",
            "bar_style": "success",
            "description": "",
            "description_tooltip": null,
            "layout": "IPY_MODEL_eae262089be44eabb57a0ca39fa159fb",
            "max": 570,
            "min": 0,
            "orientation": "horizontal",
            "style": "IPY_MODEL_536116f9f9a541929fa57ca4cc442b8f",
            "value": 570
          }
        },
        "5b1ca99ed9c04930afbdc60843dce897": {
          "model_module": "@jupyter-widgets/controls",
          "model_name": "HTMLModel",
          "model_module_version": "1.5.0",
          "state": {
            "_dom_classes": [],
            "_model_module": "@jupyter-widgets/controls",
            "_model_module_version": "1.5.0",
            "_model_name": "HTMLModel",
            "_view_count": null,
            "_view_module": "@jupyter-widgets/controls",
            "_view_module_version": "1.5.0",
            "_view_name": "HTMLView",
            "description": "",
            "description_tooltip": null,
            "layout": "IPY_MODEL_6519a2c982f34f5db158b7452beba56a",
            "placeholder": "​",
            "style": "IPY_MODEL_43cfc5b95a2d4f889c274be7c8fd80cf",
            "value": " 570/570 [00:00&lt;00:00, 8.78kB/s]"
          }
        },
        "e486fdeeb656474a9d89e141601b9699": {
          "model_module": "@jupyter-widgets/base",
          "model_name": "LayoutModel",
          "model_module_version": "1.2.0",
          "state": {
            "_model_module": "@jupyter-widgets/base",
            "_model_module_version": "1.2.0",
            "_model_name": "LayoutModel",
            "_view_count": null,
            "_view_module": "@jupyter-widgets/base",
            "_view_module_version": "1.2.0",
            "_view_name": "LayoutView",
            "align_content": null,
            "align_items": null,
            "align_self": null,
            "border": null,
            "bottom": null,
            "display": null,
            "flex": null,
            "flex_flow": null,
            "grid_area": null,
            "grid_auto_columns": null,
            "grid_auto_flow": null,
            "grid_auto_rows": null,
            "grid_column": null,
            "grid_gap": null,
            "grid_row": null,
            "grid_template_areas": null,
            "grid_template_columns": null,
            "grid_template_rows": null,
            "height": null,
            "justify_content": null,
            "justify_items": null,
            "left": null,
            "margin": null,
            "max_height": null,
            "max_width": null,
            "min_height": null,
            "min_width": null,
            "object_fit": null,
            "object_position": null,
            "order": null,
            "overflow": null,
            "overflow_x": null,
            "overflow_y": null,
            "padding": null,
            "right": null,
            "top": null,
            "visibility": null,
            "width": null
          }
        },
        "940b8d103c8f499f9ff3f8a69c0a4c79": {
          "model_module": "@jupyter-widgets/base",
          "model_name": "LayoutModel",
          "model_module_version": "1.2.0",
          "state": {
            "_model_module": "@jupyter-widgets/base",
            "_model_module_version": "1.2.0",
            "_model_name": "LayoutModel",
            "_view_count": null,
            "_view_module": "@jupyter-widgets/base",
            "_view_module_version": "1.2.0",
            "_view_name": "LayoutView",
            "align_content": null,
            "align_items": null,
            "align_self": null,
            "border": null,
            "bottom": null,
            "display": null,
            "flex": null,
            "flex_flow": null,
            "grid_area": null,
            "grid_auto_columns": null,
            "grid_auto_flow": null,
            "grid_auto_rows": null,
            "grid_column": null,
            "grid_gap": null,
            "grid_row": null,
            "grid_template_areas": null,
            "grid_template_columns": null,
            "grid_template_rows": null,
            "height": null,
            "justify_content": null,
            "justify_items": null,
            "left": null,
            "margin": null,
            "max_height": null,
            "max_width": null,
            "min_height": null,
            "min_width": null,
            "object_fit": null,
            "object_position": null,
            "order": null,
            "overflow": null,
            "overflow_x": null,
            "overflow_y": null,
            "padding": null,
            "right": null,
            "top": null,
            "visibility": null,
            "width": null
          }
        },
        "2e59af06d3cb4b5981a9f7d576a2bd2b": {
          "model_module": "@jupyter-widgets/controls",
          "model_name": "DescriptionStyleModel",
          "model_module_version": "1.5.0",
          "state": {
            "_model_module": "@jupyter-widgets/controls",
            "_model_module_version": "1.5.0",
            "_model_name": "DescriptionStyleModel",
            "_view_count": null,
            "_view_module": "@jupyter-widgets/base",
            "_view_module_version": "1.2.0",
            "_view_name": "StyleView",
            "description_width": ""
          }
        },
        "eae262089be44eabb57a0ca39fa159fb": {
          "model_module": "@jupyter-widgets/base",
          "model_name": "LayoutModel",
          "model_module_version": "1.2.0",
          "state": {
            "_model_module": "@jupyter-widgets/base",
            "_model_module_version": "1.2.0",
            "_model_name": "LayoutModel",
            "_view_count": null,
            "_view_module": "@jupyter-widgets/base",
            "_view_module_version": "1.2.0",
            "_view_name": "LayoutView",
            "align_content": null,
            "align_items": null,
            "align_self": null,
            "border": null,
            "bottom": null,
            "display": null,
            "flex": null,
            "flex_flow": null,
            "grid_area": null,
            "grid_auto_columns": null,
            "grid_auto_flow": null,
            "grid_auto_rows": null,
            "grid_column": null,
            "grid_gap": null,
            "grid_row": null,
            "grid_template_areas": null,
            "grid_template_columns": null,
            "grid_template_rows": null,
            "height": null,
            "justify_content": null,
            "justify_items": null,
            "left": null,
            "margin": null,
            "max_height": null,
            "max_width": null,
            "min_height": null,
            "min_width": null,
            "object_fit": null,
            "object_position": null,
            "order": null,
            "overflow": null,
            "overflow_x": null,
            "overflow_y": null,
            "padding": null,
            "right": null,
            "top": null,
            "visibility": null,
            "width": null
          }
        },
        "536116f9f9a541929fa57ca4cc442b8f": {
          "model_module": "@jupyter-widgets/controls",
          "model_name": "ProgressStyleModel",
          "model_module_version": "1.5.0",
          "state": {
            "_model_module": "@jupyter-widgets/controls",
            "_model_module_version": "1.5.0",
            "_model_name": "ProgressStyleModel",
            "_view_count": null,
            "_view_module": "@jupyter-widgets/base",
            "_view_module_version": "1.2.0",
            "_view_name": "StyleView",
            "bar_color": null,
            "description_width": ""
          }
        },
        "6519a2c982f34f5db158b7452beba56a": {
          "model_module": "@jupyter-widgets/base",
          "model_name": "LayoutModel",
          "model_module_version": "1.2.0",
          "state": {
            "_model_module": "@jupyter-widgets/base",
            "_model_module_version": "1.2.0",
            "_model_name": "LayoutModel",
            "_view_count": null,
            "_view_module": "@jupyter-widgets/base",
            "_view_module_version": "1.2.0",
            "_view_name": "LayoutView",
            "align_content": null,
            "align_items": null,
            "align_self": null,
            "border": null,
            "bottom": null,
            "display": null,
            "flex": null,
            "flex_flow": null,
            "grid_area": null,
            "grid_auto_columns": null,
            "grid_auto_flow": null,
            "grid_auto_rows": null,
            "grid_column": null,
            "grid_gap": null,
            "grid_row": null,
            "grid_template_areas": null,
            "grid_template_columns": null,
            "grid_template_rows": null,
            "height": null,
            "justify_content": null,
            "justify_items": null,
            "left": null,
            "margin": null,
            "max_height": null,
            "max_width": null,
            "min_height": null,
            "min_width": null,
            "object_fit": null,
            "object_position": null,
            "order": null,
            "overflow": null,
            "overflow_x": null,
            "overflow_y": null,
            "padding": null,
            "right": null,
            "top": null,
            "visibility": null,
            "width": null
          }
        },
        "43cfc5b95a2d4f889c274be7c8fd80cf": {
          "model_module": "@jupyter-widgets/controls",
          "model_name": "DescriptionStyleModel",
          "model_module_version": "1.5.0",
          "state": {
            "_model_module": "@jupyter-widgets/controls",
            "_model_module_version": "1.5.0",
            "_model_name": "DescriptionStyleModel",
            "_view_count": null,
            "_view_module": "@jupyter-widgets/base",
            "_view_module_version": "1.2.0",
            "_view_name": "StyleView",
            "description_width": ""
          }
        },
        "9229bd9e4fad4f7d9dbc3f3dffa95d62": {
          "model_module": "@jupyter-widgets/controls",
          "model_name": "HBoxModel",
          "model_module_version": "1.5.0",
          "state": {
            "_dom_classes": [],
            "_model_module": "@jupyter-widgets/controls",
            "_model_module_version": "1.5.0",
            "_model_name": "HBoxModel",
            "_view_count": null,
            "_view_module": "@jupyter-widgets/controls",
            "_view_module_version": "1.5.0",
            "_view_name": "HBoxView",
            "box_style": "",
            "children": [
              "IPY_MODEL_31b628ffa77b4f1a85b1cb8581fa984c",
              "IPY_MODEL_6f740e55715e44dcb59a5f593dae2600",
              "IPY_MODEL_42e00d0d3dd84b1dba27aaa42bc63ed1"
            ],
            "layout": "IPY_MODEL_1003065848ad41f4b947029cde7af638"
          }
        },
        "31b628ffa77b4f1a85b1cb8581fa984c": {
          "model_module": "@jupyter-widgets/controls",
          "model_name": "HTMLModel",
          "model_module_version": "1.5.0",
          "state": {
            "_dom_classes": [],
            "_model_module": "@jupyter-widgets/controls",
            "_model_module_version": "1.5.0",
            "_model_name": "HTMLModel",
            "_view_count": null,
            "_view_module": "@jupyter-widgets/controls",
            "_view_module_version": "1.5.0",
            "_view_name": "HTMLView",
            "description": "",
            "description_tooltip": null,
            "layout": "IPY_MODEL_a48ca3345a7b4ceeb5a6b1f5e002cf46",
            "placeholder": "​",
            "style": "IPY_MODEL_d20da4320c884359a94cdc12837e4b89",
            "value": "Downloading model.safetensors: 100%"
          }
        },
        "6f740e55715e44dcb59a5f593dae2600": {
          "model_module": "@jupyter-widgets/controls",
          "model_name": "FloatProgressModel",
          "model_module_version": "1.5.0",
          "state": {
            "_dom_classes": [],
            "_model_module": "@jupyter-widgets/controls",
            "_model_module_version": "1.5.0",
            "_model_name": "FloatProgressModel",
            "_view_count": null,
            "_view_module": "@jupyter-widgets/controls",
            "_view_module_version": "1.5.0",
            "_view_name": "ProgressView",
            "bar_style": "success",
            "description": "",
            "description_tooltip": null,
            "layout": "IPY_MODEL_741f6fea715340fc92b5443c73e7376b",
            "max": 440449768,
            "min": 0,
            "orientation": "horizontal",
            "style": "IPY_MODEL_71cbc14716154d18a5d87e8d403bcb02",
            "value": 440449768
          }
        },
        "42e00d0d3dd84b1dba27aaa42bc63ed1": {
          "model_module": "@jupyter-widgets/controls",
          "model_name": "HTMLModel",
          "model_module_version": "1.5.0",
          "state": {
            "_dom_classes": [],
            "_model_module": "@jupyter-widgets/controls",
            "_model_module_version": "1.5.0",
            "_model_name": "HTMLModel",
            "_view_count": null,
            "_view_module": "@jupyter-widgets/controls",
            "_view_module_version": "1.5.0",
            "_view_name": "HTMLView",
            "description": "",
            "description_tooltip": null,
            "layout": "IPY_MODEL_e26ab9e79ff34dcd906f860a2bb85fd2",
            "placeholder": "​",
            "style": "IPY_MODEL_6bad20379e554680b22424a003446fb7",
            "value": " 440M/440M [00:05&lt;00:00, 116MB/s]"
          }
        },
        "1003065848ad41f4b947029cde7af638": {
          "model_module": "@jupyter-widgets/base",
          "model_name": "LayoutModel",
          "model_module_version": "1.2.0",
          "state": {
            "_model_module": "@jupyter-widgets/base",
            "_model_module_version": "1.2.0",
            "_model_name": "LayoutModel",
            "_view_count": null,
            "_view_module": "@jupyter-widgets/base",
            "_view_module_version": "1.2.0",
            "_view_name": "LayoutView",
            "align_content": null,
            "align_items": null,
            "align_self": null,
            "border": null,
            "bottom": null,
            "display": null,
            "flex": null,
            "flex_flow": null,
            "grid_area": null,
            "grid_auto_columns": null,
            "grid_auto_flow": null,
            "grid_auto_rows": null,
            "grid_column": null,
            "grid_gap": null,
            "grid_row": null,
            "grid_template_areas": null,
            "grid_template_columns": null,
            "grid_template_rows": null,
            "height": null,
            "justify_content": null,
            "justify_items": null,
            "left": null,
            "margin": null,
            "max_height": null,
            "max_width": null,
            "min_height": null,
            "min_width": null,
            "object_fit": null,
            "object_position": null,
            "order": null,
            "overflow": null,
            "overflow_x": null,
            "overflow_y": null,
            "padding": null,
            "right": null,
            "top": null,
            "visibility": null,
            "width": null
          }
        },
        "a48ca3345a7b4ceeb5a6b1f5e002cf46": {
          "model_module": "@jupyter-widgets/base",
          "model_name": "LayoutModel",
          "model_module_version": "1.2.0",
          "state": {
            "_model_module": "@jupyter-widgets/base",
            "_model_module_version": "1.2.0",
            "_model_name": "LayoutModel",
            "_view_count": null,
            "_view_module": "@jupyter-widgets/base",
            "_view_module_version": "1.2.0",
            "_view_name": "LayoutView",
            "align_content": null,
            "align_items": null,
            "align_self": null,
            "border": null,
            "bottom": null,
            "display": null,
            "flex": null,
            "flex_flow": null,
            "grid_area": null,
            "grid_auto_columns": null,
            "grid_auto_flow": null,
            "grid_auto_rows": null,
            "grid_column": null,
            "grid_gap": null,
            "grid_row": null,
            "grid_template_areas": null,
            "grid_template_columns": null,
            "grid_template_rows": null,
            "height": null,
            "justify_content": null,
            "justify_items": null,
            "left": null,
            "margin": null,
            "max_height": null,
            "max_width": null,
            "min_height": null,
            "min_width": null,
            "object_fit": null,
            "object_position": null,
            "order": null,
            "overflow": null,
            "overflow_x": null,
            "overflow_y": null,
            "padding": null,
            "right": null,
            "top": null,
            "visibility": null,
            "width": null
          }
        },
        "d20da4320c884359a94cdc12837e4b89": {
          "model_module": "@jupyter-widgets/controls",
          "model_name": "DescriptionStyleModel",
          "model_module_version": "1.5.0",
          "state": {
            "_model_module": "@jupyter-widgets/controls",
            "_model_module_version": "1.5.0",
            "_model_name": "DescriptionStyleModel",
            "_view_count": null,
            "_view_module": "@jupyter-widgets/base",
            "_view_module_version": "1.2.0",
            "_view_name": "StyleView",
            "description_width": ""
          }
        },
        "741f6fea715340fc92b5443c73e7376b": {
          "model_module": "@jupyter-widgets/base",
          "model_name": "LayoutModel",
          "model_module_version": "1.2.0",
          "state": {
            "_model_module": "@jupyter-widgets/base",
            "_model_module_version": "1.2.0",
            "_model_name": "LayoutModel",
            "_view_count": null,
            "_view_module": "@jupyter-widgets/base",
            "_view_module_version": "1.2.0",
            "_view_name": "LayoutView",
            "align_content": null,
            "align_items": null,
            "align_self": null,
            "border": null,
            "bottom": null,
            "display": null,
            "flex": null,
            "flex_flow": null,
            "grid_area": null,
            "grid_auto_columns": null,
            "grid_auto_flow": null,
            "grid_auto_rows": null,
            "grid_column": null,
            "grid_gap": null,
            "grid_row": null,
            "grid_template_areas": null,
            "grid_template_columns": null,
            "grid_template_rows": null,
            "height": null,
            "justify_content": null,
            "justify_items": null,
            "left": null,
            "margin": null,
            "max_height": null,
            "max_width": null,
            "min_height": null,
            "min_width": null,
            "object_fit": null,
            "object_position": null,
            "order": null,
            "overflow": null,
            "overflow_x": null,
            "overflow_y": null,
            "padding": null,
            "right": null,
            "top": null,
            "visibility": null,
            "width": null
          }
        },
        "71cbc14716154d18a5d87e8d403bcb02": {
          "model_module": "@jupyter-widgets/controls",
          "model_name": "ProgressStyleModel",
          "model_module_version": "1.5.0",
          "state": {
            "_model_module": "@jupyter-widgets/controls",
            "_model_module_version": "1.5.0",
            "_model_name": "ProgressStyleModel",
            "_view_count": null,
            "_view_module": "@jupyter-widgets/base",
            "_view_module_version": "1.2.0",
            "_view_name": "StyleView",
            "bar_color": null,
            "description_width": ""
          }
        },
        "e26ab9e79ff34dcd906f860a2bb85fd2": {
          "model_module": "@jupyter-widgets/base",
          "model_name": "LayoutModel",
          "model_module_version": "1.2.0",
          "state": {
            "_model_module": "@jupyter-widgets/base",
            "_model_module_version": "1.2.0",
            "_model_name": "LayoutModel",
            "_view_count": null,
            "_view_module": "@jupyter-widgets/base",
            "_view_module_version": "1.2.0",
            "_view_name": "LayoutView",
            "align_content": null,
            "align_items": null,
            "align_self": null,
            "border": null,
            "bottom": null,
            "display": null,
            "flex": null,
            "flex_flow": null,
            "grid_area": null,
            "grid_auto_columns": null,
            "grid_auto_flow": null,
            "grid_auto_rows": null,
            "grid_column": null,
            "grid_gap": null,
            "grid_row": null,
            "grid_template_areas": null,
            "grid_template_columns": null,
            "grid_template_rows": null,
            "height": null,
            "justify_content": null,
            "justify_items": null,
            "left": null,
            "margin": null,
            "max_height": null,
            "max_width": null,
            "min_height": null,
            "min_width": null,
            "object_fit": null,
            "object_position": null,
            "order": null,
            "overflow": null,
            "overflow_x": null,
            "overflow_y": null,
            "padding": null,
            "right": null,
            "top": null,
            "visibility": null,
            "width": null
          }
        },
        "6bad20379e554680b22424a003446fb7": {
          "model_module": "@jupyter-widgets/controls",
          "model_name": "DescriptionStyleModel",
          "model_module_version": "1.5.0",
          "state": {
            "_model_module": "@jupyter-widgets/controls",
            "_model_module_version": "1.5.0",
            "_model_name": "DescriptionStyleModel",
            "_view_count": null,
            "_view_module": "@jupyter-widgets/base",
            "_view_module_version": "1.2.0",
            "_view_name": "StyleView",
            "description_width": ""
          }
        }
      }
    }
  },
  "nbformat": 4,
  "nbformat_minor": 0
}